{
  "nbformat": 4,
  "nbformat_minor": 0,
  "metadata": {
    "colab": {
      "provenance": [],
      "authorship_tag": "ABX9TyM8SKz2qEPjErQ6ewJEWPir",
      "include_colab_link": true
    },
    "kernelspec": {
      "name": "python3",
      "display_name": "Python 3"
    },
    "language_info": {
      "name": "python"
    }
  },
  "cells": [
    {
      "cell_type": "markdown",
      "metadata": {
        "id": "view-in-github",
        "colab_type": "text"
      },
      "source": [
        "<a href=\"https://colab.research.google.com/github/niklaust/SQL/blob/main/SqlMagic_notebook_of_niklaust.ipynb\" target=\"_parent\"><img src=\"https://colab.research.google.com/assets/colab-badge.svg\" alt=\"Open In Colab\"/></a>"
      ]
    },
    {
      "cell_type": "markdown",
      "source": [
        "<h1><center><b>SQL Magic</b></center></h1>"
      ],
      "metadata": {
        "id": "U_Bk0VHEdxhH"
      }
    },
    {
      "cell_type": "markdown",
      "source": [
        "github:niklaust"
      ],
      "metadata": {
        "id": "MomVSmdHdEnu"
      }
    },
    {
      "cell_type": "markdown",
      "source": [
        "# **Hands-on**"
      ],
      "metadata": {
        "id": "ZWch5sMCeMl2"
      }
    },
    {
      "cell_type": "code",
      "source": [
        "! pip install ipython-sql"
      ],
      "metadata": {
        "colab": {
          "base_uri": "https://localhost:8080/"
        },
        "id": "RxMDEJfFDqYb",
        "outputId": "959161b1-60b8-428f-895a-18758a49f13c"
      },
      "execution_count": null,
      "outputs": [
        {
          "output_type": "stream",
          "name": "stdout",
          "text": [
            "Looking in indexes: https://pypi.org/simple, https://us-python.pkg.dev/colab-wheels/public/simple/\n",
            "Requirement already satisfied: ipython-sql in /usr/local/lib/python3.7/dist-packages (0.3.9)\n",
            "Requirement already satisfied: six in /usr/local/lib/python3.7/dist-packages (from ipython-sql) (1.15.0)\n",
            "Requirement already satisfied: sqlalchemy>=0.6.7 in /usr/local/lib/python3.7/dist-packages (from ipython-sql) (1.4.44)\n",
            "Requirement already satisfied: prettytable in /usr/local/lib/python3.7/dist-packages (from ipython-sql) (3.5.0)\n",
            "Requirement already satisfied: ipython-genutils>=0.1.0 in /usr/local/lib/python3.7/dist-packages (from ipython-sql) (0.2.0)\n",
            "Requirement already satisfied: ipython>=1.0 in /usr/local/lib/python3.7/dist-packages (from ipython-sql) (7.9.0)\n",
            "Requirement already satisfied: sqlparse in /usr/local/lib/python3.7/dist-packages (from ipython-sql) (0.4.3)\n",
            "Collecting jedi>=0.10\n",
            "  Downloading jedi-0.18.2-py2.py3-none-any.whl (1.6 MB)\n",
            "\u001b[K     |████████████████████████████████| 1.6 MB 5.0 MB/s \n",
            "\u001b[?25hRequirement already satisfied: prompt-toolkit<2.1.0,>=2.0.0 in /usr/local/lib/python3.7/dist-packages (from ipython>=1.0->ipython-sql) (2.0.10)\n",
            "Requirement already satisfied: setuptools>=18.5 in /usr/local/lib/python3.7/dist-packages (from ipython>=1.0->ipython-sql) (57.4.0)\n",
            "Requirement already satisfied: pexpect in /usr/local/lib/python3.7/dist-packages (from ipython>=1.0->ipython-sql) (4.8.0)\n",
            "Requirement already satisfied: backcall in /usr/local/lib/python3.7/dist-packages (from ipython>=1.0->ipython-sql) (0.2.0)\n",
            "Requirement already satisfied: traitlets>=4.2 in /usr/local/lib/python3.7/dist-packages (from ipython>=1.0->ipython-sql) (5.1.1)\n",
            "Requirement already satisfied: decorator in /usr/local/lib/python3.7/dist-packages (from ipython>=1.0->ipython-sql) (4.4.2)\n",
            "Requirement already satisfied: pickleshare in /usr/local/lib/python3.7/dist-packages (from ipython>=1.0->ipython-sql) (0.7.5)\n",
            "Requirement already satisfied: pygments in /usr/local/lib/python3.7/dist-packages (from ipython>=1.0->ipython-sql) (2.6.1)\n",
            "Requirement already satisfied: parso<0.9.0,>=0.8.0 in /usr/local/lib/python3.7/dist-packages (from jedi>=0.10->ipython>=1.0->ipython-sql) (0.8.3)\n",
            "Requirement already satisfied: wcwidth in /usr/local/lib/python3.7/dist-packages (from prompt-toolkit<2.1.0,>=2.0.0->ipython>=1.0->ipython-sql) (0.2.5)\n",
            "Requirement already satisfied: importlib-metadata in /usr/local/lib/python3.7/dist-packages (from sqlalchemy>=0.6.7->ipython-sql) (4.13.0)\n",
            "Requirement already satisfied: greenlet!=0.4.17 in /usr/local/lib/python3.7/dist-packages (from sqlalchemy>=0.6.7->ipython-sql) (2.0.1)\n",
            "Requirement already satisfied: zipp>=0.5 in /usr/local/lib/python3.7/dist-packages (from importlib-metadata->sqlalchemy>=0.6.7->ipython-sql) (3.10.0)\n",
            "Requirement already satisfied: typing-extensions>=3.6.4 in /usr/local/lib/python3.7/dist-packages (from importlib-metadata->sqlalchemy>=0.6.7->ipython-sql) (4.1.1)\n",
            "Requirement already satisfied: ptyprocess>=0.5 in /usr/local/lib/python3.7/dist-packages (from pexpect->ipython>=1.0->ipython-sql) (0.7.0)\n",
            "Installing collected packages: jedi\n",
            "Successfully installed jedi-0.18.2\n"
          ]
        }
      ]
    },
    {
      "cell_type": "code",
      "source": [
        "import pandas as pd"
      ],
      "metadata": {
        "id": "YgFC7JrKeoN4"
      },
      "execution_count": null,
      "outputs": []
    },
    {
      "cell_type": "code",
      "source": [
        "print(f'pandas version: {pd.__version__}')"
      ],
      "metadata": {
        "colab": {
          "base_uri": "https://localhost:8080/"
        },
        "id": "CiaR16Naeqke",
        "outputId": "34727e89-7315-41b7-98bc-0d3ae255c6fe"
      },
      "execution_count": null,
      "outputs": [
        {
          "output_type": "stream",
          "name": "stdout",
          "text": [
            "pandas version: 1.3.5\n"
          ]
        }
      ]
    },
    {
      "cell_type": "markdown",
      "source": [
        "## **Download Database from Google Drive**"
      ],
      "metadata": {
        "id": "DvpTetH_aZRF"
      }
    },
    {
      "cell_type": "code",
      "source": [
        "# IntheCloudsCo.sqlite\n",
        "\n",
        "! gdown  17rnPa46CVDNBwuo_iHDWuJKqk3QDf35Q"
      ],
      "metadata": {
        "colab": {
          "base_uri": "https://localhost:8080/"
        },
        "id": "DNHmpPIoFEx7",
        "outputId": "4355af99-d8b2-4278-f101-f9fc29231894"
      },
      "execution_count": null,
      "outputs": [
        {
          "output_type": "stream",
          "name": "stdout",
          "text": [
            "Downloading...\n",
            "From: https://drive.google.com/uc?id=17rnPa46CVDNBwuo_iHDWuJKqk3QDf35Q\n",
            "To: /content/IntheCloudsCo.sqlite\n",
            "\r  0% 0.00/73.7k [00:00<?, ?B/s]\r100% 73.7k/73.7k [00:00<00:00, 43.5MB/s]\n"
          ]
        }
      ]
    },
    {
      "cell_type": "code",
      "source": [
        "# Dessert.sqlite\n",
        "\n",
        "! gdown 1DhE_ZdfJq96lbZpcDc80jlnSJPPTjkLg"
      ],
      "metadata": {
        "colab": {
          "base_uri": "https://localhost:8080/"
        },
        "id": "_KlNhT_HkdBH",
        "outputId": "0776c0cb-f48d-41e7-e7a7-3bd02823e95f"
      },
      "execution_count": null,
      "outputs": [
        {
          "output_type": "stream",
          "name": "stdout",
          "text": [
            "Downloading...\n",
            "From: https://drive.google.com/uc?id=1DhE_ZdfJq96lbZpcDc80jlnSJPPTjkLg\n",
            "To: /content/Dessert.sqlite\n",
            "\r  0% 0.00/8.19k [00:00<?, ?B/s]\r100% 8.19k/8.19k [00:00<00:00, 7.43MB/s]\n"
          ]
        }
      ]
    },
    {
      "cell_type": "markdown",
      "source": [
        "# **SQLITE Connection String**"
      ],
      "metadata": {
        "id": "7vVUybRHevMP"
      }
    },
    {
      "cell_type": "markdown",
      "source": [
        "* [sqlalchemy connection string format](https://docs.sqlalchemy.org/en/20/core/engines.html)"
      ],
      "metadata": {
        "id": "jIB6UghGu9s7"
      }
    },
    {
      "cell_type": "code",
      "source": [
        "dbname='IntheCloudsCo.sqlite'"
      ],
      "metadata": {
        "id": "iAT-4fznvIcf"
      },
      "execution_count": null,
      "outputs": []
    },
    {
      "cell_type": "code",
      "source": [
        "connection_string = f'sqlite:///{dbname}'"
      ],
      "metadata": {
        "id": "5LYa9dDYvJvA"
      },
      "execution_count": null,
      "outputs": []
    },
    {
      "cell_type": "code",
      "source": [
        "connection_string"
      ],
      "metadata": {
        "colab": {
          "base_uri": "https://localhost:8080/",
          "height": 35
        },
        "id": "8sqsourcvKx_",
        "outputId": "0c91d529-d8e1-4add-ed92-9e7a59fc1ea0"
      },
      "execution_count": null,
      "outputs": [
        {
          "output_type": "execute_result",
          "data": {
            "text/plain": [
              "'sqlite:///IntheCloudsCo.sqlite'"
            ],
            "application/vnd.google.colaboratory.intrinsic+json": {
              "type": "string"
            }
          },
          "metadata": {},
          "execution_count": 8
        }
      ]
    },
    {
      "cell_type": "code",
      "source": [
        "%load_ext sql"
      ],
      "metadata": {
        "id": "7cebQt8rD_0b"
      },
      "execution_count": null,
      "outputs": []
    },
    {
      "cell_type": "code",
      "source": [
        "%sql sqlite:///IntheCloudsCo.sqlite"
      ],
      "metadata": {
        "id": "NDHORAZDEFtq",
        "outputId": "a43885e8-bfdf-4f2f-d084-05d23c354323",
        "colab": {
          "base_uri": "https://localhost:8080/",
          "height": 35
        }
      },
      "execution_count": null,
      "outputs": [
        {
          "output_type": "execute_result",
          "data": {
            "text/plain": [
              "'Connected: @IntheCloudsCo.sqlite'"
            ],
            "application/vnd.google.colaboratory.intrinsic+json": {
              "type": "string"
            }
          },
          "metadata": {},
          "execution_count": 10
        }
      ]
    },
    {
      "cell_type": "code",
      "source": [
        "%sql SELECT * FROM Customers limit 5;"
      ],
      "metadata": {
        "colab": {
          "base_uri": "https://localhost:8080/",
          "height": 182
        },
        "id": "6pp4855jD6n6",
        "outputId": "910b2bd4-c788-4d77-9379-f92ec6fa3fa3"
      },
      "execution_count": null,
      "outputs": [
        {
          "output_type": "stream",
          "name": "stdout",
          "text": [
            " * sqlite:///IntheCloudsCo.sqlite\n",
            "Done.\n"
          ]
        },
        {
          "output_type": "execute_result",
          "data": {
            "text/plain": [
              "[(1, 'John Thomas Red', 'Julia Erica', '6 Avenue', 'New york', '10019', 'USA'),\n",
              " (2, 'Gianni Azzuro', 'Giovanni Ala', 'Via Lazio', 'Roma', '187', 'Italy'),\n",
              " (3, 'Juan Maria Rojo', 'Jaime Nopales', 'Calle del Amor de Dios', 'Madrid', '28014', 'Spain'),\n",
              " (4, 'Johannes Schwarz', 'Jakob  Tusche', 'Alfons-Goppel-Straße', 'München', '80539', 'Germany'),\n",
              " (5, 'Jan Martijn Oranje', 'Pieter Ladened', 'Zeestraat', 'Den Haag', '2525', 'The Netherland')]"
            ],
            "text/html": [
              "<table>\n",
              "    <thead>\n",
              "        <tr>\n",
              "            <th>CustomerID</th>\n",
              "            <th>CustomerName</th>\n",
              "            <th>ContactName</th>\n",
              "            <th>Address</th>\n",
              "            <th>City</th>\n",
              "            <th>PostalCode</th>\n",
              "            <th>Country</th>\n",
              "        </tr>\n",
              "    </thead>\n",
              "    <tbody>\n",
              "        <tr>\n",
              "            <td>1</td>\n",
              "            <td>John Thomas Red</td>\n",
              "            <td>Julia Erica</td>\n",
              "            <td>6 Avenue</td>\n",
              "            <td>New york</td>\n",
              "            <td>10019</td>\n",
              "            <td>USA</td>\n",
              "        </tr>\n",
              "        <tr>\n",
              "            <td>2</td>\n",
              "            <td>Gianni Azzuro</td>\n",
              "            <td>Giovanni Ala</td>\n",
              "            <td>Via Lazio</td>\n",
              "            <td>Roma</td>\n",
              "            <td>187</td>\n",
              "            <td>Italy</td>\n",
              "        </tr>\n",
              "        <tr>\n",
              "            <td>3</td>\n",
              "            <td>Juan Maria Rojo</td>\n",
              "            <td>Jaime Nopales</td>\n",
              "            <td>Calle del Amor de Dios</td>\n",
              "            <td>Madrid</td>\n",
              "            <td>28014</td>\n",
              "            <td>Spain</td>\n",
              "        </tr>\n",
              "        <tr>\n",
              "            <td>4</td>\n",
              "            <td>Johannes Schwarz</td>\n",
              "            <td>Jakob  Tusche</td>\n",
              "            <td>Alfons-Goppel-Straße</td>\n",
              "            <td>München</td>\n",
              "            <td>80539</td>\n",
              "            <td>Germany</td>\n",
              "        </tr>\n",
              "        <tr>\n",
              "            <td>5</td>\n",
              "            <td>Jan Martijn Oranje</td>\n",
              "            <td>Pieter Ladened</td>\n",
              "            <td>Zeestraat</td>\n",
              "            <td>Den Haag</td>\n",
              "            <td>2525</td>\n",
              "            <td>The Netherland</td>\n",
              "        </tr>\n",
              "    </tbody>\n",
              "</table>"
            ]
          },
          "metadata": {},
          "execution_count": 11
        }
      ]
    },
    {
      "cell_type": "code",
      "source": [
        "%sql $connection_string"
      ],
      "metadata": {
        "colab": {
          "base_uri": "https://localhost:8080/",
          "height": 35
        },
        "id": "GstO1MfTGC8E",
        "outputId": "761b49b4-479c-4cbd-de1e-e1aa3a783025"
      },
      "execution_count": null,
      "outputs": [
        {
          "output_type": "execute_result",
          "data": {
            "text/plain": [
              "'Connected: @IntheCloudsCo.sqlite'"
            ],
            "application/vnd.google.colaboratory.intrinsic+json": {
              "type": "string"
            }
          },
          "metadata": {},
          "execution_count": 12
        }
      ]
    },
    {
      "cell_type": "code",
      "source": [
        "%sql SELECT * FROM Customers limit 5;"
      ],
      "metadata": {
        "colab": {
          "base_uri": "https://localhost:8080/",
          "height": 182
        },
        "id": "qacqNbsKGThO",
        "outputId": "842173e2-562f-4baa-e311-64a1ffbbf435"
      },
      "execution_count": null,
      "outputs": [
        {
          "output_type": "stream",
          "name": "stdout",
          "text": [
            " * sqlite:///IntheCloudsCo.sqlite\n",
            "Done.\n"
          ]
        },
        {
          "output_type": "execute_result",
          "data": {
            "text/plain": [
              "[(1, 'John Thomas Red', 'Julia Erica', '6 Avenue', 'New york', '10019', 'USA'),\n",
              " (2, 'Gianni Azzuro', 'Giovanni Ala', 'Via Lazio', 'Roma', '187', 'Italy'),\n",
              " (3, 'Juan Maria Rojo', 'Jaime Nopales', 'Calle del Amor de Dios', 'Madrid', '28014', 'Spain'),\n",
              " (4, 'Johannes Schwarz', 'Jakob  Tusche', 'Alfons-Goppel-Straße', 'München', '80539', 'Germany'),\n",
              " (5, 'Jan Martijn Oranje', 'Pieter Ladened', 'Zeestraat', 'Den Haag', '2525', 'The Netherland')]"
            ],
            "text/html": [
              "<table>\n",
              "    <thead>\n",
              "        <tr>\n",
              "            <th>CustomerID</th>\n",
              "            <th>CustomerName</th>\n",
              "            <th>ContactName</th>\n",
              "            <th>Address</th>\n",
              "            <th>City</th>\n",
              "            <th>PostalCode</th>\n",
              "            <th>Country</th>\n",
              "        </tr>\n",
              "    </thead>\n",
              "    <tbody>\n",
              "        <tr>\n",
              "            <td>1</td>\n",
              "            <td>John Thomas Red</td>\n",
              "            <td>Julia Erica</td>\n",
              "            <td>6 Avenue</td>\n",
              "            <td>New york</td>\n",
              "            <td>10019</td>\n",
              "            <td>USA</td>\n",
              "        </tr>\n",
              "        <tr>\n",
              "            <td>2</td>\n",
              "            <td>Gianni Azzuro</td>\n",
              "            <td>Giovanni Ala</td>\n",
              "            <td>Via Lazio</td>\n",
              "            <td>Roma</td>\n",
              "            <td>187</td>\n",
              "            <td>Italy</td>\n",
              "        </tr>\n",
              "        <tr>\n",
              "            <td>3</td>\n",
              "            <td>Juan Maria Rojo</td>\n",
              "            <td>Jaime Nopales</td>\n",
              "            <td>Calle del Amor de Dios</td>\n",
              "            <td>Madrid</td>\n",
              "            <td>28014</td>\n",
              "            <td>Spain</td>\n",
              "        </tr>\n",
              "        <tr>\n",
              "            <td>4</td>\n",
              "            <td>Johannes Schwarz</td>\n",
              "            <td>Jakob  Tusche</td>\n",
              "            <td>Alfons-Goppel-Straße</td>\n",
              "            <td>München</td>\n",
              "            <td>80539</td>\n",
              "            <td>Germany</td>\n",
              "        </tr>\n",
              "        <tr>\n",
              "            <td>5</td>\n",
              "            <td>Jan Martijn Oranje</td>\n",
              "            <td>Pieter Ladened</td>\n",
              "            <td>Zeestraat</td>\n",
              "            <td>Den Haag</td>\n",
              "            <td>2525</td>\n",
              "            <td>The Netherland</td>\n",
              "        </tr>\n",
              "    </tbody>\n",
              "</table>"
            ]
          },
          "metadata": {},
          "execution_count": 13
        }
      ]
    },
    {
      "cell_type": "code",
      "source": [
        "%%sql\n",
        "SELECT * \n",
        "  FROM sqlite_master\n",
        "  WHERE type='table';"
      ],
      "metadata": {
        "colab": {
          "base_uri": "https://localhost:8080/",
          "height": 1000
        },
        "id": "Bk0uX5AlGXgz",
        "outputId": "f44a456b-daa7-4e87-c4bb-deaeb59c13d3"
      },
      "execution_count": null,
      "outputs": [
        {
          "output_type": "stream",
          "name": "stdout",
          "text": [
            " * sqlite:///IntheCloudsCo.sqlite\n",
            "Done.\n"
          ]
        },
        {
          "output_type": "execute_result",
          "data": {
            "text/plain": [
              "[('table', 'sqlite_sequence', 'sqlite_sequence', 4, 'CREATE TABLE sqlite_sequence(name,seq)'),\n",
              " ('table', 'Products', 'Products', 6, 'CREATE TABLE \"Products\" (\\n\\t\"ProductID\"\\tINTEGER NOT NULL UNIQUE,\\n\\t\"ProductName\"\\tTEXT NOT NULL,\\n\\t\"SupplierID\"\\tINTEGER NOT NULL,\\n\\t\"CategoryID\"\\tTEXT NOT NULL,\\n\\t\"Unit\"\\tTEXT NOT NULL,\\n\\t\"Price\"\\tINTEGER NOT NULL,\\n\\tPRIMARY KEY(\"ProductID\" AUTOINCREMENT)\\n)'),\n",
              " ('table', 'Category', 'Category', 8, 'CREATE TABLE \"Category\" (\\n\\t\"CategoryID\"\\tTEXT UNIQUE,\\n\\t\"Description\"\\tTEXT\\n)'),\n",
              " ('table', 'Suppliers', 'Suppliers', 2, 'CREATE TABLE \"Suppliers\" (\\n\\t\"SupplierID\"\\tINTEGER,\\n\\t\"Company\"\\tTEXT,\\n\\t\"Address\"\\tTEXT,\\n\\t\"Phone\"\\tTEXT\\n)'),\n",
              " ('table', 'Employees', 'Employees', 10, 'CREATE TABLE \"Employees\" (\\n\\t\"EmployeeID\"\\tNUMERIC,\\n\\t\"fName\"\\tTEXT,\\n\\t\"lName\"\\tTEXT,\\n\\t\"Sex\"\\tTEXT,\\n\\t\"bType\"\\tTEXT,\\n\\t\"Height\"\\tINTEGER,\\n\\t\"Weight\"\\tINTEGER,\\n\\t\"Nationality\"\\tTEXT,\\n\\tPRIMARY KEY(\"EmployeeID\")\\n)'),\n",
              " ('table', 'Shippers', 'Shippers', 12, 'CREATE TABLE \"Shippers\" (\\n\\t\"ShipperID\"\\tINTEGER,\\n\\t\"ShipperName\"\\tTEXT,\\n\\t\"Description\"\\tTEXT,\\n\\t\"Phone\"\\tTEXT\\n)'),\n",
              " ('table', 'OrderDetails', 'OrderDetails', 16, 'CREATE TABLE \"OrderDetails\" (\\n\\t\"OrderDetailID\"\\tINTEGER,\\n\\t\"OrderID\"\\tINTEGER,\\n\\t\"ProductID\"\\tINTEGER,\\n\\t\"Quantity\"\\tINTEGER\\n)'),\n",
              " ('table', 'Customers', 'Customers', 13, 'CREATE TABLE \"Customers\" (\\n\\t\"CustomerID\"\\tINTEGER,\\n\\t\"CustomerName\"\\tTEXT,\\n\\t\"ContactName\"\\tTEXT,\\n\\t\"Address\"\\tTEXT,\\n\\t\"City\"\\tTEXT,\\n\\t\"PostalCode\"\\tTEXT,\\n\\t\"Country\"\\tTEXT,\\n\\tPRIMARY KEY(\"CustomerID\" AUTOINCREMENT)\\n)'),\n",
              " ('table', 'OldOrders', 'OldOrders', 5, 'CREATE TABLE \"OldOrders\" (\\n\\t\"OrderID\"\\tINTEGER,\\n\\t\"CustomerID\"\\tINTEGER,\\n\\t\"EmployeeID\"\\tINTEGER,\\n\\t\"OrderDate\"\\tNUMERIC,\\n\\t\"ShipperID\"\\tTEXT\\n)'),\n",
              " ('table', 'Orders', 'Orders', 3, 'CREATE TABLE \"Orders\" (\\n\\t\"OrderID\"\\tINTEGER,\\n\\t\"CustomerID\"\\tINTEGER,\\n\\t\"EmployeeID\"\\tINTEGER,\\n\\t\"OrderDate\"\\tNUMERIC,\\n\\t\"ShipperID\"\\tTEXT,\\n\\tPRIMARY KEY(\"OrderID\" AUTOINCREMENT)\\n)')]"
            ],
            "text/html": [
              "<table>\n",
              "    <thead>\n",
              "        <tr>\n",
              "            <th>type</th>\n",
              "            <th>name</th>\n",
              "            <th>tbl_name</th>\n",
              "            <th>rootpage</th>\n",
              "            <th>sql</th>\n",
              "        </tr>\n",
              "    </thead>\n",
              "    <tbody>\n",
              "        <tr>\n",
              "            <td>table</td>\n",
              "            <td>sqlite_sequence</td>\n",
              "            <td>sqlite_sequence</td>\n",
              "            <td>4</td>\n",
              "            <td>CREATE TABLE sqlite_sequence(name,seq)</td>\n",
              "        </tr>\n",
              "        <tr>\n",
              "            <td>table</td>\n",
              "            <td>Products</td>\n",
              "            <td>Products</td>\n",
              "            <td>6</td>\n",
              "            <td>CREATE TABLE &quot;Products&quot; (<br>\t&quot;ProductID&quot;\tINTEGER NOT NULL UNIQUE,<br>\t&quot;ProductName&quot;\tTEXT NOT NULL,<br>\t&quot;SupplierID&quot;\tINTEGER NOT NULL,<br>\t&quot;CategoryID&quot;\tTEXT NOT NULL,<br>\t&quot;Unit&quot;\tTEXT NOT NULL,<br>\t&quot;Price&quot;\tINTEGER NOT NULL,<br>\tPRIMARY KEY(&quot;ProductID&quot; AUTOINCREMENT)<br>)</td>\n",
              "        </tr>\n",
              "        <tr>\n",
              "            <td>table</td>\n",
              "            <td>Category</td>\n",
              "            <td>Category</td>\n",
              "            <td>8</td>\n",
              "            <td>CREATE TABLE &quot;Category&quot; (<br>\t&quot;CategoryID&quot;\tTEXT UNIQUE,<br>\t&quot;Description&quot;\tTEXT<br>)</td>\n",
              "        </tr>\n",
              "        <tr>\n",
              "            <td>table</td>\n",
              "            <td>Suppliers</td>\n",
              "            <td>Suppliers</td>\n",
              "            <td>2</td>\n",
              "            <td>CREATE TABLE &quot;Suppliers&quot; (<br>\t&quot;SupplierID&quot;\tINTEGER,<br>\t&quot;Company&quot;\tTEXT,<br>\t&quot;Address&quot;\tTEXT,<br>\t&quot;Phone&quot;\tTEXT<br>)</td>\n",
              "        </tr>\n",
              "        <tr>\n",
              "            <td>table</td>\n",
              "            <td>Employees</td>\n",
              "            <td>Employees</td>\n",
              "            <td>10</td>\n",
              "            <td>CREATE TABLE &quot;Employees&quot; (<br>\t&quot;EmployeeID&quot;\tNUMERIC,<br>\t&quot;fName&quot;\tTEXT,<br>\t&quot;lName&quot;\tTEXT,<br>\t&quot;Sex&quot;\tTEXT,<br>\t&quot;bType&quot;\tTEXT,<br>\t&quot;Height&quot;\tINTEGER,<br>\t&quot;Weight&quot;\tINTEGER,<br>\t&quot;Nationality&quot;\tTEXT,<br>\tPRIMARY KEY(&quot;EmployeeID&quot;)<br>)</td>\n",
              "        </tr>\n",
              "        <tr>\n",
              "            <td>table</td>\n",
              "            <td>Shippers</td>\n",
              "            <td>Shippers</td>\n",
              "            <td>12</td>\n",
              "            <td>CREATE TABLE &quot;Shippers&quot; (<br>\t&quot;ShipperID&quot;\tINTEGER,<br>\t&quot;ShipperName&quot;\tTEXT,<br>\t&quot;Description&quot;\tTEXT,<br>\t&quot;Phone&quot;\tTEXT<br>)</td>\n",
              "        </tr>\n",
              "        <tr>\n",
              "            <td>table</td>\n",
              "            <td>OrderDetails</td>\n",
              "            <td>OrderDetails</td>\n",
              "            <td>16</td>\n",
              "            <td>CREATE TABLE &quot;OrderDetails&quot; (<br>\t&quot;OrderDetailID&quot;\tINTEGER,<br>\t&quot;OrderID&quot;\tINTEGER,<br>\t&quot;ProductID&quot;\tINTEGER,<br>\t&quot;Quantity&quot;\tINTEGER<br>)</td>\n",
              "        </tr>\n",
              "        <tr>\n",
              "            <td>table</td>\n",
              "            <td>Customers</td>\n",
              "            <td>Customers</td>\n",
              "            <td>13</td>\n",
              "            <td>CREATE TABLE &quot;Customers&quot; (<br>\t&quot;CustomerID&quot;\tINTEGER,<br>\t&quot;CustomerName&quot;\tTEXT,<br>\t&quot;ContactName&quot;\tTEXT,<br>\t&quot;Address&quot;\tTEXT,<br>\t&quot;City&quot;\tTEXT,<br>\t&quot;PostalCode&quot;\tTEXT,<br>\t&quot;Country&quot;\tTEXT,<br>\tPRIMARY KEY(&quot;CustomerID&quot; AUTOINCREMENT)<br>)</td>\n",
              "        </tr>\n",
              "        <tr>\n",
              "            <td>table</td>\n",
              "            <td>OldOrders</td>\n",
              "            <td>OldOrders</td>\n",
              "            <td>5</td>\n",
              "            <td>CREATE TABLE &quot;OldOrders&quot; (<br>\t&quot;OrderID&quot;\tINTEGER,<br>\t&quot;CustomerID&quot;\tINTEGER,<br>\t&quot;EmployeeID&quot;\tINTEGER,<br>\t&quot;OrderDate&quot;\tNUMERIC,<br>\t&quot;ShipperID&quot;\tTEXT<br>)</td>\n",
              "        </tr>\n",
              "        <tr>\n",
              "            <td>table</td>\n",
              "            <td>Orders</td>\n",
              "            <td>Orders</td>\n",
              "            <td>3</td>\n",
              "            <td>CREATE TABLE &quot;Orders&quot; (<br>\t&quot;OrderID&quot;\tINTEGER,<br>\t&quot;CustomerID&quot;\tINTEGER,<br>\t&quot;EmployeeID&quot;\tINTEGER,<br>\t&quot;OrderDate&quot;\tNUMERIC,<br>\t&quot;ShipperID&quot;\tTEXT,<br>\tPRIMARY KEY(&quot;OrderID&quot; AUTOINCREMENT)<br>)</td>\n",
              "        </tr>\n",
              "    </tbody>\n",
              "</table>"
            ]
          },
          "metadata": {},
          "execution_count": 14
        }
      ]
    },
    {
      "cell_type": "code",
      "source": [
        "%%sql\n",
        "SELECT * FROM Customers\n",
        "  WHERE Country = 'Spain';"
      ],
      "metadata": {
        "colab": {
          "base_uri": "https://localhost:8080/",
          "height": 139
        },
        "id": "gmUA24d3GtR7",
        "outputId": "c1adf159-ed79-482e-8750-1a64f9e4aaeb"
      },
      "execution_count": null,
      "outputs": [
        {
          "output_type": "stream",
          "name": "stdout",
          "text": [
            " * sqlite:///IntheCloudsCo.sqlite\n",
            "Done.\n"
          ]
        },
        {
          "output_type": "execute_result",
          "data": {
            "text/plain": [
              "[(3, 'Juan Maria Rojo', 'Jaime Nopales', 'Calle del Amor de Dios', 'Madrid', '28014', 'Spain'),\n",
              " (11, 'Jon Calos Amarilla', 'Jaime Nopales', 'Calle de València', 'Barcelona', '8013', 'Spain'),\n",
              " (19, 'Joana Lopez Roja', 'Jaime Nopales', 'Calle de Xàtiva', 'Valencia', '46002', 'Spain')]"
            ],
            "text/html": [
              "<table>\n",
              "    <thead>\n",
              "        <tr>\n",
              "            <th>CustomerID</th>\n",
              "            <th>CustomerName</th>\n",
              "            <th>ContactName</th>\n",
              "            <th>Address</th>\n",
              "            <th>City</th>\n",
              "            <th>PostalCode</th>\n",
              "            <th>Country</th>\n",
              "        </tr>\n",
              "    </thead>\n",
              "    <tbody>\n",
              "        <tr>\n",
              "            <td>3</td>\n",
              "            <td>Juan Maria Rojo</td>\n",
              "            <td>Jaime Nopales</td>\n",
              "            <td>Calle del Amor de Dios</td>\n",
              "            <td>Madrid</td>\n",
              "            <td>28014</td>\n",
              "            <td>Spain</td>\n",
              "        </tr>\n",
              "        <tr>\n",
              "            <td>11</td>\n",
              "            <td>Jon Calos Amarilla</td>\n",
              "            <td>Jaime Nopales</td>\n",
              "            <td>Calle de València</td>\n",
              "            <td>Barcelona</td>\n",
              "            <td>8013</td>\n",
              "            <td>Spain</td>\n",
              "        </tr>\n",
              "        <tr>\n",
              "            <td>19</td>\n",
              "            <td>Joana Lopez Roja</td>\n",
              "            <td>Jaime Nopales</td>\n",
              "            <td>Calle de Xàtiva</td>\n",
              "            <td>Valencia</td>\n",
              "            <td>46002</td>\n",
              "            <td>Spain</td>\n",
              "        </tr>\n",
              "    </tbody>\n",
              "</table>"
            ]
          },
          "metadata": {},
          "execution_count": 15
        }
      ]
    },
    {
      "cell_type": "code",
      "source": [
        "%%sql\n",
        "SELECT * FROM Orders\n",
        "  WHERE   ShipperId = 'NA' OR ShipperID = 'SA';"
      ],
      "metadata": {
        "colab": {
          "base_uri": "https://localhost:8080/",
          "height": 374
        },
        "id": "AQoC0DtkHDmD",
        "outputId": "3a168afe-bb42-410b-f610-740f24d24a67"
      },
      "execution_count": null,
      "outputs": [
        {
          "output_type": "stream",
          "name": "stdout",
          "text": [
            " * sqlite:///IntheCloudsCo.sqlite\n",
            "Done.\n"
          ]
        },
        {
          "output_type": "execute_result",
          "data": {
            "text/plain": [
              "[(10001, 1, 4, '2020-01-01', 'NA'),\n",
              " (10010, 31, 10, '2020-04-02', 'SA'),\n",
              " (10011, 32, 10, '2020-04-05', 'SA'),\n",
              " (10012, 33, 10, '2020-04-08', 'SA'),\n",
              " (10013, 34, 10, '2020-04-12', 'SA'),\n",
              " (10033, 9, 4, '2020-11-06', 'NA'),\n",
              " (10037, 17, 4, '2020-12-15', 'NA'),\n",
              " (10045, 31, 10, '2021-02-28', 'SA'),\n",
              " (10046, 32, 10, '2021-03-05', 'SA'),\n",
              " (10047, 33, 10, '2021-03-08', 'SA'),\n",
              " (10048, 34, 10, '2021-03-12', 'SA'),\n",
              " (10055, 1, 4, '2021-06-01', 'NA'),\n",
              " (10070, 9, 4, '2021-12-06', 'NA'),\n",
              " (10074, 17, 4, '2021-02-15', 'NA')]"
            ],
            "text/html": [
              "<table>\n",
              "    <thead>\n",
              "        <tr>\n",
              "            <th>OrderID</th>\n",
              "            <th>CustomerID</th>\n",
              "            <th>EmployeeID</th>\n",
              "            <th>OrderDate</th>\n",
              "            <th>ShipperID</th>\n",
              "        </tr>\n",
              "    </thead>\n",
              "    <tbody>\n",
              "        <tr>\n",
              "            <td>10001</td>\n",
              "            <td>1</td>\n",
              "            <td>4</td>\n",
              "            <td>2020-01-01</td>\n",
              "            <td>NA</td>\n",
              "        </tr>\n",
              "        <tr>\n",
              "            <td>10010</td>\n",
              "            <td>31</td>\n",
              "            <td>10</td>\n",
              "            <td>2020-04-02</td>\n",
              "            <td>SA</td>\n",
              "        </tr>\n",
              "        <tr>\n",
              "            <td>10011</td>\n",
              "            <td>32</td>\n",
              "            <td>10</td>\n",
              "            <td>2020-04-05</td>\n",
              "            <td>SA</td>\n",
              "        </tr>\n",
              "        <tr>\n",
              "            <td>10012</td>\n",
              "            <td>33</td>\n",
              "            <td>10</td>\n",
              "            <td>2020-04-08</td>\n",
              "            <td>SA</td>\n",
              "        </tr>\n",
              "        <tr>\n",
              "            <td>10013</td>\n",
              "            <td>34</td>\n",
              "            <td>10</td>\n",
              "            <td>2020-04-12</td>\n",
              "            <td>SA</td>\n",
              "        </tr>\n",
              "        <tr>\n",
              "            <td>10033</td>\n",
              "            <td>9</td>\n",
              "            <td>4</td>\n",
              "            <td>2020-11-06</td>\n",
              "            <td>NA</td>\n",
              "        </tr>\n",
              "        <tr>\n",
              "            <td>10037</td>\n",
              "            <td>17</td>\n",
              "            <td>4</td>\n",
              "            <td>2020-12-15</td>\n",
              "            <td>NA</td>\n",
              "        </tr>\n",
              "        <tr>\n",
              "            <td>10045</td>\n",
              "            <td>31</td>\n",
              "            <td>10</td>\n",
              "            <td>2021-02-28</td>\n",
              "            <td>SA</td>\n",
              "        </tr>\n",
              "        <tr>\n",
              "            <td>10046</td>\n",
              "            <td>32</td>\n",
              "            <td>10</td>\n",
              "            <td>2021-03-05</td>\n",
              "            <td>SA</td>\n",
              "        </tr>\n",
              "        <tr>\n",
              "            <td>10047</td>\n",
              "            <td>33</td>\n",
              "            <td>10</td>\n",
              "            <td>2021-03-08</td>\n",
              "            <td>SA</td>\n",
              "        </tr>\n",
              "        <tr>\n",
              "            <td>10048</td>\n",
              "            <td>34</td>\n",
              "            <td>10</td>\n",
              "            <td>2021-03-12</td>\n",
              "            <td>SA</td>\n",
              "        </tr>\n",
              "        <tr>\n",
              "            <td>10055</td>\n",
              "            <td>1</td>\n",
              "            <td>4</td>\n",
              "            <td>2021-06-01</td>\n",
              "            <td>NA</td>\n",
              "        </tr>\n",
              "        <tr>\n",
              "            <td>10070</td>\n",
              "            <td>9</td>\n",
              "            <td>4</td>\n",
              "            <td>2021-12-06</td>\n",
              "            <td>NA</td>\n",
              "        </tr>\n",
              "        <tr>\n",
              "            <td>10074</td>\n",
              "            <td>17</td>\n",
              "            <td>4</td>\n",
              "            <td>2021-02-15</td>\n",
              "            <td>NA</td>\n",
              "        </tr>\n",
              "    </tbody>\n",
              "</table>"
            ]
          },
          "metadata": {},
          "execution_count": 16
        }
      ]
    },
    {
      "cell_type": "code",
      "source": [
        "rs=%sql SELECT ShipperID, count(*) OrderID FROM Orders GROUP BY ShipperID "
      ],
      "metadata": {
        "colab": {
          "base_uri": "https://localhost:8080/"
        },
        "id": "cZgu6KnsI5_L",
        "outputId": "97afd838-82d8-48e8-a324-387e18cc5264"
      },
      "execution_count": null,
      "outputs": [
        {
          "output_type": "stream",
          "name": "stdout",
          "text": [
            " * sqlite:///IntheCloudsCo.sqlite\n",
            "Done.\n"
          ]
        }
      ]
    },
    {
      "cell_type": "code",
      "source": [
        "rs"
      ],
      "metadata": {
        "colab": {
          "base_uri": "https://localhost:8080/",
          "height": 297
        },
        "id": "UWWM2Lf6J4qc",
        "outputId": "d247b106-e2f7-49ff-d28b-199b9708fa2d"
      },
      "execution_count": null,
      "outputs": [
        {
          "output_type": "execute_result",
          "data": {
            "text/plain": [
              "[('AE', 6),\n",
              " ('AF', 4),\n",
              " ('ASE', 6),\n",
              " ('EN1', 10),\n",
              " ('EN2', 6),\n",
              " ('ES1', 10),\n",
              " ('ES2', 6),\n",
              " ('EW1', 6),\n",
              " ('EW2', 10),\n",
              " ('NA', 6),\n",
              " ('OP', 10),\n",
              " ('SA', 8)]"
            ],
            "text/html": [
              "<table>\n",
              "    <thead>\n",
              "        <tr>\n",
              "            <th>ShipperID</th>\n",
              "            <th>OrderID</th>\n",
              "        </tr>\n",
              "    </thead>\n",
              "    <tbody>\n",
              "        <tr>\n",
              "            <td>AE</td>\n",
              "            <td>6</td>\n",
              "        </tr>\n",
              "        <tr>\n",
              "            <td>AF</td>\n",
              "            <td>4</td>\n",
              "        </tr>\n",
              "        <tr>\n",
              "            <td>ASE</td>\n",
              "            <td>6</td>\n",
              "        </tr>\n",
              "        <tr>\n",
              "            <td>EN1</td>\n",
              "            <td>10</td>\n",
              "        </tr>\n",
              "        <tr>\n",
              "            <td>EN2</td>\n",
              "            <td>6</td>\n",
              "        </tr>\n",
              "        <tr>\n",
              "            <td>ES1</td>\n",
              "            <td>10</td>\n",
              "        </tr>\n",
              "        <tr>\n",
              "            <td>ES2</td>\n",
              "            <td>6</td>\n",
              "        </tr>\n",
              "        <tr>\n",
              "            <td>EW1</td>\n",
              "            <td>6</td>\n",
              "        </tr>\n",
              "        <tr>\n",
              "            <td>EW2</td>\n",
              "            <td>10</td>\n",
              "        </tr>\n",
              "        <tr>\n",
              "            <td>NA</td>\n",
              "            <td>6</td>\n",
              "        </tr>\n",
              "        <tr>\n",
              "            <td>OP</td>\n",
              "            <td>10</td>\n",
              "        </tr>\n",
              "        <tr>\n",
              "            <td>SA</td>\n",
              "            <td>8</td>\n",
              "        </tr>\n",
              "    </tbody>\n",
              "</table>"
            ]
          },
          "metadata": {},
          "execution_count": 18
        }
      ]
    },
    {
      "cell_type": "code",
      "source": [
        "type(rs)"
      ],
      "metadata": {
        "colab": {
          "base_uri": "https://localhost:8080/"
        },
        "id": "M4o02Ds4JzSk",
        "outputId": "ab44bc33-2723-419b-b176-c61e7aa7681a"
      },
      "execution_count": null,
      "outputs": [
        {
          "output_type": "execute_result",
          "data": {
            "text/plain": [
              "sql.run.ResultSet"
            ]
          },
          "metadata": {},
          "execution_count": 19
        }
      ]
    },
    {
      "cell_type": "code",
      "source": [
        "df = rs.DataFrame()\n",
        "df"
      ],
      "metadata": {
        "colab": {
          "base_uri": "https://localhost:8080/",
          "height": 426
        },
        "id": "Zi1Dsmn5KO0D",
        "outputId": "56c7010a-eb22-4c0b-aadf-8f76f0e4f812"
      },
      "execution_count": null,
      "outputs": [
        {
          "output_type": "execute_result",
          "data": {
            "text/plain": [
              "   ShipperID  OrderID\n",
              "0         AE        6\n",
              "1         AF        4\n",
              "2        ASE        6\n",
              "3        EN1       10\n",
              "4        EN2        6\n",
              "5        ES1       10\n",
              "6        ES2        6\n",
              "7        EW1        6\n",
              "8        EW2       10\n",
              "9         NA        6\n",
              "10        OP       10\n",
              "11        SA        8"
            ],
            "text/html": [
              "\n",
              "  <div id=\"df-d88736a4-019b-4f45-82fe-4e4eb485a881\">\n",
              "    <div class=\"colab-df-container\">\n",
              "      <div>\n",
              "<style scoped>\n",
              "    .dataframe tbody tr th:only-of-type {\n",
              "        vertical-align: middle;\n",
              "    }\n",
              "\n",
              "    .dataframe tbody tr th {\n",
              "        vertical-align: top;\n",
              "    }\n",
              "\n",
              "    .dataframe thead th {\n",
              "        text-align: right;\n",
              "    }\n",
              "</style>\n",
              "<table border=\"1\" class=\"dataframe\">\n",
              "  <thead>\n",
              "    <tr style=\"text-align: right;\">\n",
              "      <th></th>\n",
              "      <th>ShipperID</th>\n",
              "      <th>OrderID</th>\n",
              "    </tr>\n",
              "  </thead>\n",
              "  <tbody>\n",
              "    <tr>\n",
              "      <th>0</th>\n",
              "      <td>AE</td>\n",
              "      <td>6</td>\n",
              "    </tr>\n",
              "    <tr>\n",
              "      <th>1</th>\n",
              "      <td>AF</td>\n",
              "      <td>4</td>\n",
              "    </tr>\n",
              "    <tr>\n",
              "      <th>2</th>\n",
              "      <td>ASE</td>\n",
              "      <td>6</td>\n",
              "    </tr>\n",
              "    <tr>\n",
              "      <th>3</th>\n",
              "      <td>EN1</td>\n",
              "      <td>10</td>\n",
              "    </tr>\n",
              "    <tr>\n",
              "      <th>4</th>\n",
              "      <td>EN2</td>\n",
              "      <td>6</td>\n",
              "    </tr>\n",
              "    <tr>\n",
              "      <th>5</th>\n",
              "      <td>ES1</td>\n",
              "      <td>10</td>\n",
              "    </tr>\n",
              "    <tr>\n",
              "      <th>6</th>\n",
              "      <td>ES2</td>\n",
              "      <td>6</td>\n",
              "    </tr>\n",
              "    <tr>\n",
              "      <th>7</th>\n",
              "      <td>EW1</td>\n",
              "      <td>6</td>\n",
              "    </tr>\n",
              "    <tr>\n",
              "      <th>8</th>\n",
              "      <td>EW2</td>\n",
              "      <td>10</td>\n",
              "    </tr>\n",
              "    <tr>\n",
              "      <th>9</th>\n",
              "      <td>NA</td>\n",
              "      <td>6</td>\n",
              "    </tr>\n",
              "    <tr>\n",
              "      <th>10</th>\n",
              "      <td>OP</td>\n",
              "      <td>10</td>\n",
              "    </tr>\n",
              "    <tr>\n",
              "      <th>11</th>\n",
              "      <td>SA</td>\n",
              "      <td>8</td>\n",
              "    </tr>\n",
              "  </tbody>\n",
              "</table>\n",
              "</div>\n",
              "      <button class=\"colab-df-convert\" onclick=\"convertToInteractive('df-d88736a4-019b-4f45-82fe-4e4eb485a881')\"\n",
              "              title=\"Convert this dataframe to an interactive table.\"\n",
              "              style=\"display:none;\">\n",
              "        \n",
              "  <svg xmlns=\"http://www.w3.org/2000/svg\" height=\"24px\"viewBox=\"0 0 24 24\"\n",
              "       width=\"24px\">\n",
              "    <path d=\"M0 0h24v24H0V0z\" fill=\"none\"/>\n",
              "    <path d=\"M18.56 5.44l.94 2.06.94-2.06 2.06-.94-2.06-.94-.94-2.06-.94 2.06-2.06.94zm-11 1L8.5 8.5l.94-2.06 2.06-.94-2.06-.94L8.5 2.5l-.94 2.06-2.06.94zm10 10l.94 2.06.94-2.06 2.06-.94-2.06-.94-.94-2.06-.94 2.06-2.06.94z\"/><path d=\"M17.41 7.96l-1.37-1.37c-.4-.4-.92-.59-1.43-.59-.52 0-1.04.2-1.43.59L10.3 9.45l-7.72 7.72c-.78.78-.78 2.05 0 2.83L4 21.41c.39.39.9.59 1.41.59.51 0 1.02-.2 1.41-.59l7.78-7.78 2.81-2.81c.8-.78.8-2.07 0-2.86zM5.41 20L4 18.59l7.72-7.72 1.47 1.35L5.41 20z\"/>\n",
              "  </svg>\n",
              "      </button>\n",
              "      \n",
              "  <style>\n",
              "    .colab-df-container {\n",
              "      display:flex;\n",
              "      flex-wrap:wrap;\n",
              "      gap: 12px;\n",
              "    }\n",
              "\n",
              "    .colab-df-convert {\n",
              "      background-color: #E8F0FE;\n",
              "      border: none;\n",
              "      border-radius: 50%;\n",
              "      cursor: pointer;\n",
              "      display: none;\n",
              "      fill: #1967D2;\n",
              "      height: 32px;\n",
              "      padding: 0 0 0 0;\n",
              "      width: 32px;\n",
              "    }\n",
              "\n",
              "    .colab-df-convert:hover {\n",
              "      background-color: #E2EBFA;\n",
              "      box-shadow: 0px 1px 2px rgba(60, 64, 67, 0.3), 0px 1px 3px 1px rgba(60, 64, 67, 0.15);\n",
              "      fill: #174EA6;\n",
              "    }\n",
              "\n",
              "    [theme=dark] .colab-df-convert {\n",
              "      background-color: #3B4455;\n",
              "      fill: #D2E3FC;\n",
              "    }\n",
              "\n",
              "    [theme=dark] .colab-df-convert:hover {\n",
              "      background-color: #434B5C;\n",
              "      box-shadow: 0px 1px 3px 1px rgba(0, 0, 0, 0.15);\n",
              "      filter: drop-shadow(0px 1px 2px rgba(0, 0, 0, 0.3));\n",
              "      fill: #FFFFFF;\n",
              "    }\n",
              "  </style>\n",
              "\n",
              "      <script>\n",
              "        const buttonEl =\n",
              "          document.querySelector('#df-d88736a4-019b-4f45-82fe-4e4eb485a881 button.colab-df-convert');\n",
              "        buttonEl.style.display =\n",
              "          google.colab.kernel.accessAllowed ? 'block' : 'none';\n",
              "\n",
              "        async function convertToInteractive(key) {\n",
              "          const element = document.querySelector('#df-d88736a4-019b-4f45-82fe-4e4eb485a881');\n",
              "          const dataTable =\n",
              "            await google.colab.kernel.invokeFunction('convertToInteractive',\n",
              "                                                     [key], {});\n",
              "          if (!dataTable) return;\n",
              "\n",
              "          const docLinkHtml = 'Like what you see? Visit the ' +\n",
              "            '<a target=\"_blank\" href=https://colab.research.google.com/notebooks/data_table.ipynb>data table notebook</a>'\n",
              "            + ' to learn more about interactive tables.';\n",
              "          element.innerHTML = '';\n",
              "          dataTable['output_type'] = 'display_data';\n",
              "          await google.colab.output.renderOutput(dataTable, element);\n",
              "          const docLink = document.createElement('div');\n",
              "          docLink.innerHTML = docLinkHtml;\n",
              "          element.appendChild(docLink);\n",
              "        }\n",
              "      </script>\n",
              "    </div>\n",
              "  </div>\n",
              "  "
            ]
          },
          "metadata": {},
          "execution_count": 20
        }
      ]
    },
    {
      "cell_type": "code",
      "source": [
        "type(df)"
      ],
      "metadata": {
        "id": "o6rS5LTZKX2b",
        "colab": {
          "base_uri": "https://localhost:8080/"
        },
        "outputId": "73f15490-7835-4f4b-d3fd-103ce448e83f"
      },
      "execution_count": null,
      "outputs": [
        {
          "output_type": "execute_result",
          "data": {
            "text/plain": [
              "pandas.core.frame.DataFrame"
            ]
          },
          "metadata": {},
          "execution_count": 21
        }
      ]
    },
    {
      "cell_type": "code",
      "source": [
        "import seaborn as sns\n"
      ],
      "metadata": {
        "id": "_4IIju20KeNb"
      },
      "execution_count": null,
      "outputs": []
    },
    {
      "cell_type": "code",
      "source": [
        "sns.set(rc={'figure.figsize':(9,6)})\n",
        "\n",
        "sns.barplot(x='ShipperID', y='OrderID', data=df);"
      ],
      "metadata": {
        "id": "J6pMHS06Kg6r",
        "colab": {
          "base_uri": "https://localhost:8080/",
          "height": 394
        },
        "outputId": "45b4aac4-7d82-4a03-da8e-33d80b82904f"
      },
      "execution_count": null,
      "outputs": [
        {
          "output_type": "display_data",
          "data": {
            "text/plain": [
              "<Figure size 648x432 with 1 Axes>"
            ],
            "image/png": "[encoded data removed]"
          },
          "metadata": {}
        }
      ]
    },
    {
      "cell_type": "code",
      "source": [
        "%%sql\n",
        "update Customers\n",
        "  set CustomerName = lower(CustomerName);"
      ],
      "metadata": {
        "id": "OUtnonRjKyT1",
        "colab": {
          "base_uri": "https://localhost:8080/"
        },
        "outputId": "c611c69e-d5af-4e6a-a639-85709af87ff7"
      },
      "execution_count": null,
      "outputs": [
        {
          "output_type": "stream",
          "name": "stdout",
          "text": [
            " * sqlite:///IntheCloudsCo.sqlite\n",
            "44 rows affected.\n"
          ]
        },
        {
          "output_type": "execute_result",
          "data": {
            "text/plain": [
              "[]"
            ]
          },
          "metadata": {},
          "execution_count": 24
        }
      ]
    },
    {
      "cell_type": "code",
      "source": [
        "%%sql\n",
        "SELECT * FROM Customers LIMIT 5;"
      ],
      "metadata": {
        "id": "sm9VnYMlMkTN",
        "colab": {
          "base_uri": "https://localhost:8080/",
          "height": 182
        },
        "outputId": "4ec2d946-be59-47aa-929c-658be797156c"
      },
      "execution_count": null,
      "outputs": [
        {
          "output_type": "stream",
          "name": "stdout",
          "text": [
            " * sqlite:///IntheCloudsCo.sqlite\n",
            "Done.\n"
          ]
        },
        {
          "output_type": "execute_result",
          "data": {
            "text/plain": [
              "[(1, 'john thomas red', 'Julia Erica', '6 Avenue', 'New york', '10019', 'USA'),\n",
              " (2, 'gianni azzuro', 'Giovanni Ala', 'Via Lazio', 'Roma', '187', 'Italy'),\n",
              " (3, 'juan maria rojo', 'Jaime Nopales', 'Calle del Amor de Dios', 'Madrid', '28014', 'Spain'),\n",
              " (4, 'johannes schwarz', 'Jakob  Tusche', 'Alfons-Goppel-Straße', 'München', '80539', 'Germany'),\n",
              " (5, 'jan martijn oranje', 'Pieter Ladened', 'Zeestraat', 'Den Haag', '2525', 'The Netherland')]"
            ],
            "text/html": [
              "<table>\n",
              "    <thead>\n",
              "        <tr>\n",
              "            <th>CustomerID</th>\n",
              "            <th>CustomerName</th>\n",
              "            <th>ContactName</th>\n",
              "            <th>Address</th>\n",
              "            <th>City</th>\n",
              "            <th>PostalCode</th>\n",
              "            <th>Country</th>\n",
              "        </tr>\n",
              "    </thead>\n",
              "    <tbody>\n",
              "        <tr>\n",
              "            <td>1</td>\n",
              "            <td>john thomas red</td>\n",
              "            <td>Julia Erica</td>\n",
              "            <td>6 Avenue</td>\n",
              "            <td>New york</td>\n",
              "            <td>10019</td>\n",
              "            <td>USA</td>\n",
              "        </tr>\n",
              "        <tr>\n",
              "            <td>2</td>\n",
              "            <td>gianni azzuro</td>\n",
              "            <td>Giovanni Ala</td>\n",
              "            <td>Via Lazio</td>\n",
              "            <td>Roma</td>\n",
              "            <td>187</td>\n",
              "            <td>Italy</td>\n",
              "        </tr>\n",
              "        <tr>\n",
              "            <td>3</td>\n",
              "            <td>juan maria rojo</td>\n",
              "            <td>Jaime Nopales</td>\n",
              "            <td>Calle del Amor de Dios</td>\n",
              "            <td>Madrid</td>\n",
              "            <td>28014</td>\n",
              "            <td>Spain</td>\n",
              "        </tr>\n",
              "        <tr>\n",
              "            <td>4</td>\n",
              "            <td>johannes schwarz</td>\n",
              "            <td>Jakob  Tusche</td>\n",
              "            <td>Alfons-Goppel-Straße</td>\n",
              "            <td>München</td>\n",
              "            <td>80539</td>\n",
              "            <td>Germany</td>\n",
              "        </tr>\n",
              "        <tr>\n",
              "            <td>5</td>\n",
              "            <td>jan martijn oranje</td>\n",
              "            <td>Pieter Ladened</td>\n",
              "            <td>Zeestraat</td>\n",
              "            <td>Den Haag</td>\n",
              "            <td>2525</td>\n",
              "            <td>The Netherland</td>\n",
              "        </tr>\n",
              "    </tbody>\n",
              "</table>"
            ]
          },
          "metadata": {},
          "execution_count": 25
        }
      ]
    },
    {
      "cell_type": "markdown",
      "source": [
        "#**SqlMagic**"
      ],
      "metadata": {
        "id": "Ds1JPnBoNbvc"
      }
    },
    {
      "cell_type": "code",
      "source": [
        "%config SqlMagic"
      ],
      "metadata": {
        "id": "GeNsRiOWNgFs",
        "colab": {
          "base_uri": "https://localhost:8080/"
        },
        "outputId": "767dd498-095d-4772-93a2-81872b2547d2"
      },
      "execution_count": null,
      "outputs": [
        {
          "output_type": "stream",
          "name": "stdout",
          "text": [
            "SqlMagic(Magics, Configurable) options\n",
            "------------------------------------\n",
            "SqlMagic.autocommit=<Bool>\n",
            "    Set autocommit mode\n",
            "    Current: True\n",
            "SqlMagic.autolimit=<Int>\n",
            "    Automatically limit the size of the returned result sets\n",
            "    Current: 0\n",
            "SqlMagic.autopandas=<Bool>\n",
            "    Return Pandas DataFrames instead of regular result sets\n",
            "    Current: False\n",
            "SqlMagic.column_local_vars=<Bool>\n",
            "    Return data into local variables from column names\n",
            "    Current: False\n",
            "SqlMagic.displaylimit=<Int>\n",
            "    Automatically limit the number of rows displayed (full result set is still\n",
            "    stored)\n",
            "    Current: None\n",
            "SqlMagic.dsn_filename=<Unicode>\n",
            "    Path to DSN file. When the first argument is of the form [section], a\n",
            "    sqlalchemy connection string is formed from the matching section in the DSN\n",
            "    file.\n",
            "    Current: 'odbc.ini'\n",
            "SqlMagic.feedback=<Bool>\n",
            "    Print number of rows affected by DML\n",
            "    Current: True\n",
            "SqlMagic.short_errors=<Bool>\n",
            "    Don't display the full traceback on SQL Programming Error\n",
            "    Current: True\n",
            "SqlMagic.style=<Unicode>\n",
            "    Set the table printing style to any of prettytable's defined styles\n",
            "    (currently DEFAULT, MSWORD_FRIENDLY, PLAIN_COLUMNS, RANDOM)\n",
            "    Current: 'DEFAULT'\n"
          ]
        }
      ]
    },
    {
      "cell_type": "code",
      "source": [
        "%config SqlMagic.autopandas = True\n",
        "# %config SqlMagic.displaycon = False # doesn't have this function "
      ],
      "metadata": {
        "id": "lnNcbjZpNt8O"
      },
      "execution_count": null,
      "outputs": []
    },
    {
      "cell_type": "code",
      "source": [
        "df=%sql SELECT * FROM Orders;\n",
        "df"
      ],
      "metadata": {
        "id": "q9gnAyeUOqxd",
        "colab": {
          "base_uri": "https://localhost:8080/",
          "height": 458
        },
        "outputId": "d05c43f8-8cf5-43f0-fd7f-918b3299b74f"
      },
      "execution_count": null,
      "outputs": [
        {
          "output_type": "stream",
          "name": "stdout",
          "text": [
            " * sqlite:///IntheCloudsCo.sqlite\n",
            "Done.\n"
          ]
        },
        {
          "output_type": "execute_result",
          "data": {
            "text/plain": [
              "    OrderID  CustomerID  EmployeeID   OrderDate ShipperID\n",
              "0     10001           1           4  2020-01-01        NA\n",
              "1     10002           7           3  2020-01-07        AE\n",
              "2     10003          12           7  2020-01-31       EW1\n",
              "3     10004          22           8  2020-02-05       EN2\n",
              "4     10005          35           9  2020-02-11       EN1\n",
              "..      ...         ...         ...         ...       ...\n",
              "83    10084          20           7  2022-05-13       EW1\n",
              "84    10085           3           2  2022-05-23       ES2\n",
              "85    10086          24           1  2022-06-05       ASE\n",
              "86    10087          28           6  2022-06-09       ES1\n",
              "87    10088          36           9  2022-06-14       EN1\n",
              "\n",
              "[88 rows x 5 columns]"
            ],
            "text/html": [
              "\n",
              "  <div id=\"df-96776ba0-f12b-40e7-ab1e-b01c6b4c2359\">\n",
              "    <div class=\"colab-df-container\">\n",
              "      <div>\n",
              "<style scoped>\n",
              "    .dataframe tbody tr th:only-of-type {\n",
              "        vertical-align: middle;\n",
              "    }\n",
              "\n",
              "    .dataframe tbody tr th {\n",
              "        vertical-align: top;\n",
              "    }\n",
              "\n",
              "    .dataframe thead th {\n",
              "        text-align: right;\n",
              "    }\n",
              "</style>\n",
              "<table border=\"1\" class=\"dataframe\">\n",
              "  <thead>\n",
              "    <tr style=\"text-align: right;\">\n",
              "      <th></th>\n",
              "      <th>OrderID</th>\n",
              "      <th>CustomerID</th>\n",
              "      <th>EmployeeID</th>\n",
              "      <th>OrderDate</th>\n",
              "      <th>ShipperID</th>\n",
              "    </tr>\n",
              "  </thead>\n",
              "  <tbody>\n",
              "    <tr>\n",
              "      <th>0</th>\n",
              "      <td>10001</td>\n",
              "      <td>1</td>\n",
              "      <td>4</td>\n",
              "      <td>2020-01-01</td>\n",
              "      <td>NA</td>\n",
              "    </tr>\n",
              "    <tr>\n",
              "      <th>1</th>\n",
              "      <td>10002</td>\n",
              "      <td>7</td>\n",
              "      <td>3</td>\n",
              "      <td>2020-01-07</td>\n",
              "      <td>AE</td>\n",
              "    </tr>\n",
              "    <tr>\n",
              "      <th>2</th>\n",
              "      <td>10003</td>\n",
              "      <td>12</td>\n",
              "      <td>7</td>\n",
              "      <td>2020-01-31</td>\n",
              "      <td>EW1</td>\n",
              "    </tr>\n",
              "    <tr>\n",
              "      <th>3</th>\n",
              "      <td>10004</td>\n",
              "      <td>22</td>\n",
              "      <td>8</td>\n",
              "      <td>2020-02-05</td>\n",
              "      <td>EN2</td>\n",
              "    </tr>\n",
              "    <tr>\n",
              "      <th>4</th>\n",
              "      <td>10005</td>\n",
              "      <td>35</td>\n",
              "      <td>9</td>\n",
              "      <td>2020-02-11</td>\n",
              "      <td>EN1</td>\n",
              "    </tr>\n",
              "    <tr>\n",
              "      <th>...</th>\n",
              "      <td>...</td>\n",
              "      <td>...</td>\n",
              "      <td>...</td>\n",
              "      <td>...</td>\n",
              "      <td>...</td>\n",
              "    </tr>\n",
              "    <tr>\n",
              "      <th>83</th>\n",
              "      <td>10084</td>\n",
              "      <td>20</td>\n",
              "      <td>7</td>\n",
              "      <td>2022-05-13</td>\n",
              "      <td>EW1</td>\n",
              "    </tr>\n",
              "    <tr>\n",
              "      <th>84</th>\n",
              "      <td>10085</td>\n",
              "      <td>3</td>\n",
              "      <td>2</td>\n",
              "      <td>2022-05-23</td>\n",
              "      <td>ES2</td>\n",
              "    </tr>\n",
              "    <tr>\n",
              "      <th>85</th>\n",
              "      <td>10086</td>\n",
              "      <td>24</td>\n",
              "      <td>1</td>\n",
              "      <td>2022-06-05</td>\n",
              "      <td>ASE</td>\n",
              "    </tr>\n",
              "    <tr>\n",
              "      <th>86</th>\n",
              "      <td>10087</td>\n",
              "      <td>28</td>\n",
              "      <td>6</td>\n",
              "      <td>2022-06-09</td>\n",
              "      <td>ES1</td>\n",
              "    </tr>\n",
              "    <tr>\n",
              "      <th>87</th>\n",
              "      <td>10088</td>\n",
              "      <td>36</td>\n",
              "      <td>9</td>\n",
              "      <td>2022-06-14</td>\n",
              "      <td>EN1</td>\n",
              "    </tr>\n",
              "  </tbody>\n",
              "</table>\n",
              "<p>88 rows × 5 columns</p>\n",
              "</div>\n",
              "      <button class=\"colab-df-convert\" onclick=\"convertToInteractive('df-96776ba0-f12b-40e7-ab1e-b01c6b4c2359')\"\n",
              "              title=\"Convert this dataframe to an interactive table.\"\n",
              "              style=\"display:none;\">\n",
              "        \n",
              "  <svg xmlns=\"http://www.w3.org/2000/svg\" height=\"24px\"viewBox=\"0 0 24 24\"\n",
              "       width=\"24px\">\n",
              "    <path d=\"M0 0h24v24H0V0z\" fill=\"none\"/>\n",
              "    <path d=\"M18.56 5.44l.94 2.06.94-2.06 2.06-.94-2.06-.94-.94-2.06-.94 2.06-2.06.94zm-11 1L8.5 8.5l.94-2.06 2.06-.94-2.06-.94L8.5 2.5l-.94 2.06-2.06.94zm10 10l.94 2.06.94-2.06 2.06-.94-2.06-.94-.94-2.06-.94 2.06-2.06.94z\"/><path d=\"M17.41 7.96l-1.37-1.37c-.4-.4-.92-.59-1.43-.59-.52 0-1.04.2-1.43.59L10.3 9.45l-7.72 7.72c-.78.78-.78 2.05 0 2.83L4 21.41c.39.39.9.59 1.41.59.51 0 1.02-.2 1.41-.59l7.78-7.78 2.81-2.81c.8-.78.8-2.07 0-2.86zM5.41 20L4 18.59l7.72-7.72 1.47 1.35L5.41 20z\"/>\n",
              "  </svg>\n",
              "      </button>\n",
              "      \n",
              "  <style>\n",
              "    .colab-df-container {\n",
              "      display:flex;\n",
              "      flex-wrap:wrap;\n",
              "      gap: 12px;\n",
              "    }\n",
              "\n",
              "    .colab-df-convert {\n",
              "      background-color: #E8F0FE;\n",
              "      border: none;\n",
              "      border-radius: 50%;\n",
              "      cursor: pointer;\n",
              "      display: none;\n",
              "      fill: #1967D2;\n",
              "      height: 32px;\n",
              "      padding: 0 0 0 0;\n",
              "      width: 32px;\n",
              "    }\n",
              "\n",
              "    .colab-df-convert:hover {\n",
              "      background-color: #E2EBFA;\n",
              "      box-shadow: 0px 1px 2px rgba(60, 64, 67, 0.3), 0px 1px 3px 1px rgba(60, 64, 67, 0.15);\n",
              "      fill: #174EA6;\n",
              "    }\n",
              "\n",
              "    [theme=dark] .colab-df-convert {\n",
              "      background-color: #3B4455;\n",
              "      fill: #D2E3FC;\n",
              "    }\n",
              "\n",
              "    [theme=dark] .colab-df-convert:hover {\n",
              "      background-color: #434B5C;\n",
              "      box-shadow: 0px 1px 3px 1px rgba(0, 0, 0, 0.15);\n",
              "      filter: drop-shadow(0px 1px 2px rgba(0, 0, 0, 0.3));\n",
              "      fill: #FFFFFF;\n",
              "    }\n",
              "  </style>\n",
              "\n",
              "      <script>\n",
              "        const buttonEl =\n",
              "          document.querySelector('#df-96776ba0-f12b-40e7-ab1e-b01c6b4c2359 button.colab-df-convert');\n",
              "        buttonEl.style.display =\n",
              "          google.colab.kernel.accessAllowed ? 'block' : 'none';\n",
              "\n",
              "        async function convertToInteractive(key) {\n",
              "          const element = document.querySelector('#df-96776ba0-f12b-40e7-ab1e-b01c6b4c2359');\n",
              "          const dataTable =\n",
              "            await google.colab.kernel.invokeFunction('convertToInteractive',\n",
              "                                                     [key], {});\n",
              "          if (!dataTable) return;\n",
              "\n",
              "          const docLinkHtml = 'Like what you see? Visit the ' +\n",
              "            '<a target=\"_blank\" href=https://colab.research.google.com/notebooks/data_table.ipynb>data table notebook</a>'\n",
              "            + ' to learn more about interactive tables.';\n",
              "          element.innerHTML = '';\n",
              "          dataTable['output_type'] = 'display_data';\n",
              "          await google.colab.output.renderOutput(dataTable, element);\n",
              "          const docLink = document.createElement('div');\n",
              "          docLink.innerHTML = docLinkHtml;\n",
              "          element.appendChild(docLink);\n",
              "        }\n",
              "      </script>\n",
              "    </div>\n",
              "  </div>\n",
              "  "
            ]
          },
          "metadata": {},
          "execution_count": 28
        }
      ]
    },
    {
      "cell_type": "code",
      "source": [
        "type(df)"
      ],
      "metadata": {
        "id": "XqZSirS0O2Qs",
        "colab": {
          "base_uri": "https://localhost:8080/"
        },
        "outputId": "0c13e60c-cc85-4159-f4f2-c75828683537"
      },
      "execution_count": null,
      "outputs": [
        {
          "output_type": "execute_result",
          "data": {
            "text/plain": [
              "pandas.core.frame.DataFrame"
            ]
          },
          "metadata": {},
          "execution_count": 29
        }
      ]
    },
    {
      "cell_type": "code",
      "source": [
        "df['EmployeeID'].hist(bins=12);"
      ],
      "metadata": {
        "id": "GuvYfcBOO7aE",
        "colab": {
          "base_uri": "https://localhost:8080/",
          "height": 377
        },
        "outputId": "2e1329e6-5388-4a01-adf0-fdd172a1de64"
      },
      "execution_count": null,
      "outputs": [
        {
          "output_type": "display_data",
          "data": {
            "text/plain": [
              "<Figure size 648x432 with 1 Axes>"
            ],
            "image/png": "[encoded data removed]"
          },
          "metadata": {}
        }
      ]
    },
    {
      "cell_type": "markdown",
      "source": [
        "# **Multiline %% sql to pandas.DataFrame()**"
      ],
      "metadata": {
        "id": "5_aWZCDaWHf8"
      }
    },
    {
      "cell_type": "code",
      "source": [
        "%%sql df2 <<\n",
        "SELECT *\n",
        "  FROM Orders\n",
        "  WHERE ShipperID = 'EN1'\n",
        "  limit 5;"
      ],
      "metadata": {
        "id": "ApHmsQqzX1Pt",
        "colab": {
          "base_uri": "https://localhost:8080/"
        },
        "outputId": "41c0d802-505b-4bcd-d882-8fba42dc2348"
      },
      "execution_count": null,
      "outputs": [
        {
          "output_type": "stream",
          "name": "stdout",
          "text": [
            " * sqlite:///IntheCloudsCo.sqlite\n",
            "Done.\n",
            "Returning data to local variable df2\n"
          ]
        }
      ]
    },
    {
      "cell_type": "code",
      "source": [
        "df2"
      ],
      "metadata": {
        "id": "b2YOVzVTYQ2k",
        "colab": {
          "base_uri": "https://localhost:8080/",
          "height": 206
        },
        "outputId": "00df2f2b-70a6-4dac-9345-423e9c402185"
      },
      "execution_count": null,
      "outputs": [
        {
          "output_type": "execute_result",
          "data": {
            "text/plain": [
              "   OrderID  CustomerID  EmployeeID   OrderDate ShipperID\n",
              "0    10005          35           9  2020-02-11       EN1\n",
              "1    10007          37           9  2020-03-08       EN1\n",
              "2    10019          38           9  2020-06-15       EN1\n",
              "3    10031          36           9  2020-10-14       EN1\n",
              "4    10035          39           9  2020-11-27       EN1"
            ],
            "text/html": [
              "\n",
              "  <div id=\"df-5fc1c0f9-0fff-4972-82dc-15fbb8c699d8\">\n",
              "    <div class=\"colab-df-container\">\n",
              "      <div>\n",
              "<style scoped>\n",
              "    .dataframe tbody tr th:only-of-type {\n",
              "        vertical-align: middle;\n",
              "    }\n",
              "\n",
              "    .dataframe tbody tr th {\n",
              "        vertical-align: top;\n",
              "    }\n",
              "\n",
              "    .dataframe thead th {\n",
              "        text-align: right;\n",
              "    }\n",
              "</style>\n",
              "<table border=\"1\" class=\"dataframe\">\n",
              "  <thead>\n",
              "    <tr style=\"text-align: right;\">\n",
              "      <th></th>\n",
              "      <th>OrderID</th>\n",
              "      <th>CustomerID</th>\n",
              "      <th>EmployeeID</th>\n",
              "      <th>OrderDate</th>\n",
              "      <th>ShipperID</th>\n",
              "    </tr>\n",
              "  </thead>\n",
              "  <tbody>\n",
              "    <tr>\n",
              "      <th>0</th>\n",
              "      <td>10005</td>\n",
              "      <td>35</td>\n",
              "      <td>9</td>\n",
              "      <td>2020-02-11</td>\n",
              "      <td>EN1</td>\n",
              "    </tr>\n",
              "    <tr>\n",
              "      <th>1</th>\n",
              "      <td>10007</td>\n",
              "      <td>37</td>\n",
              "      <td>9</td>\n",
              "      <td>2020-03-08</td>\n",
              "      <td>EN1</td>\n",
              "    </tr>\n",
              "    <tr>\n",
              "      <th>2</th>\n",
              "      <td>10019</td>\n",
              "      <td>38</td>\n",
              "      <td>9</td>\n",
              "      <td>2020-06-15</td>\n",
              "      <td>EN1</td>\n",
              "    </tr>\n",
              "    <tr>\n",
              "      <th>3</th>\n",
              "      <td>10031</td>\n",
              "      <td>36</td>\n",
              "      <td>9</td>\n",
              "      <td>2020-10-14</td>\n",
              "      <td>EN1</td>\n",
              "    </tr>\n",
              "    <tr>\n",
              "      <th>4</th>\n",
              "      <td>10035</td>\n",
              "      <td>39</td>\n",
              "      <td>9</td>\n",
              "      <td>2020-11-27</td>\n",
              "      <td>EN1</td>\n",
              "    </tr>\n",
              "  </tbody>\n",
              "</table>\n",
              "</div>\n",
              "      <button class=\"colab-df-convert\" onclick=\"convertToInteractive('df-5fc1c0f9-0fff-4972-82dc-15fbb8c699d8')\"\n",
              "              title=\"Convert this dataframe to an interactive table.\"\n",
              "              style=\"display:none;\">\n",
              "        \n",
              "  <svg xmlns=\"http://www.w3.org/2000/svg\" height=\"24px\"viewBox=\"0 0 24 24\"\n",
              "       width=\"24px\">\n",
              "    <path d=\"M0 0h24v24H0V0z\" fill=\"none\"/>\n",
              "    <path d=\"M18.56 5.44l.94 2.06.94-2.06 2.06-.94-2.06-.94-.94-2.06-.94 2.06-2.06.94zm-11 1L8.5 8.5l.94-2.06 2.06-.94-2.06-.94L8.5 2.5l-.94 2.06-2.06.94zm10 10l.94 2.06.94-2.06 2.06-.94-2.06-.94-.94-2.06-.94 2.06-2.06.94z\"/><path d=\"M17.41 7.96l-1.37-1.37c-.4-.4-.92-.59-1.43-.59-.52 0-1.04.2-1.43.59L10.3 9.45l-7.72 7.72c-.78.78-.78 2.05 0 2.83L4 21.41c.39.39.9.59 1.41.59.51 0 1.02-.2 1.41-.59l7.78-7.78 2.81-2.81c.8-.78.8-2.07 0-2.86zM5.41 20L4 18.59l7.72-7.72 1.47 1.35L5.41 20z\"/>\n",
              "  </svg>\n",
              "      </button>\n",
              "      \n",
              "  <style>\n",
              "    .colab-df-container {\n",
              "      display:flex;\n",
              "      flex-wrap:wrap;\n",
              "      gap: 12px;\n",
              "    }\n",
              "\n",
              "    .colab-df-convert {\n",
              "      background-color: #E8F0FE;\n",
              "      border: none;\n",
              "      border-radius: 50%;\n",
              "      cursor: pointer;\n",
              "      display: none;\n",
              "      fill: #1967D2;\n",
              "      height: 32px;\n",
              "      padding: 0 0 0 0;\n",
              "      width: 32px;\n",
              "    }\n",
              "\n",
              "    .colab-df-convert:hover {\n",
              "      background-color: #E2EBFA;\n",
              "      box-shadow: 0px 1px 2px rgba(60, 64, 67, 0.3), 0px 1px 3px 1px rgba(60, 64, 67, 0.15);\n",
              "      fill: #174EA6;\n",
              "    }\n",
              "\n",
              "    [theme=dark] .colab-df-convert {\n",
              "      background-color: #3B4455;\n",
              "      fill: #D2E3FC;\n",
              "    }\n",
              "\n",
              "    [theme=dark] .colab-df-convert:hover {\n",
              "      background-color: #434B5C;\n",
              "      box-shadow: 0px 1px 3px 1px rgba(0, 0, 0, 0.15);\n",
              "      filter: drop-shadow(0px 1px 2px rgba(0, 0, 0, 0.3));\n",
              "      fill: #FFFFFF;\n",
              "    }\n",
              "  </style>\n",
              "\n",
              "      <script>\n",
              "        const buttonEl =\n",
              "          document.querySelector('#df-5fc1c0f9-0fff-4972-82dc-15fbb8c699d8 button.colab-df-convert');\n",
              "        buttonEl.style.display =\n",
              "          google.colab.kernel.accessAllowed ? 'block' : 'none';\n",
              "\n",
              "        async function convertToInteractive(key) {\n",
              "          const element = document.querySelector('#df-5fc1c0f9-0fff-4972-82dc-15fbb8c699d8');\n",
              "          const dataTable =\n",
              "            await google.colab.kernel.invokeFunction('convertToInteractive',\n",
              "                                                     [key], {});\n",
              "          if (!dataTable) return;\n",
              "\n",
              "          const docLinkHtml = 'Like what you see? Visit the ' +\n",
              "            '<a target=\"_blank\" href=https://colab.research.google.com/notebooks/data_table.ipynb>data table notebook</a>'\n",
              "            + ' to learn more about interactive tables.';\n",
              "          element.innerHTML = '';\n",
              "          dataTable['output_type'] = 'display_data';\n",
              "          await google.colab.output.renderOutput(dataTable, element);\n",
              "          const docLink = document.createElement('div');\n",
              "          docLink.innerHTML = docLinkHtml;\n",
              "          element.appendChild(docLink);\n",
              "        }\n",
              "      </script>\n",
              "    </div>\n",
              "  </div>\n",
              "  "
            ]
          },
          "metadata": {},
          "execution_count": 32
        }
      ]
    },
    {
      "cell_type": "code",
      "source": [
        "type(df2)"
      ],
      "metadata": {
        "id": "_rbECeoSYVpF",
        "colab": {
          "base_uri": "https://localhost:8080/"
        },
        "outputId": "45b6882e-bc44-414f-c387-ca540c154cad"
      },
      "execution_count": null,
      "outputs": [
        {
          "output_type": "execute_result",
          "data": {
            "text/plain": [
              "pandas.core.frame.DataFrame"
            ]
          },
          "metadata": {},
          "execution_count": 33
        }
      ]
    },
    {
      "cell_type": "code",
      "source": [
        "df2.info()"
      ],
      "metadata": {
        "id": "G7FZlXpBYco1",
        "colab": {
          "base_uri": "https://localhost:8080/"
        },
        "outputId": "31b8e6da-add0-4fb0-f280-49718ca25a37"
      },
      "execution_count": null,
      "outputs": [
        {
          "output_type": "stream",
          "name": "stdout",
          "text": [
            "<class 'pandas.core.frame.DataFrame'>\n",
            "RangeIndex: 5 entries, 0 to 4\n",
            "Data columns (total 5 columns):\n",
            " #   Column      Non-Null Count  Dtype \n",
            "---  ------      --------------  ----- \n",
            " 0   OrderID     5 non-null      int64 \n",
            " 1   CustomerID  5 non-null      int64 \n",
            " 2   EmployeeID  5 non-null      int64 \n",
            " 3   OrderDate   5 non-null      object\n",
            " 4   ShipperID   5 non-null      object\n",
            "dtypes: int64(3), object(2)\n",
            "memory usage: 328.0+ bytes\n"
          ]
        }
      ]
    },
    {
      "cell_type": "code",
      "source": [
        "df2['OrderDate'] = df2['OrderDate'].astype('datetime64')"
      ],
      "metadata": {
        "id": "Ag3K1dVBYg5n"
      },
      "execution_count": null,
      "outputs": []
    },
    {
      "cell_type": "code",
      "source": [
        "df2.info()"
      ],
      "metadata": {
        "id": "jcK0bcSIY6rd",
        "colab": {
          "base_uri": "https://localhost:8080/"
        },
        "outputId": "78fb0e2a-1350-4ee6-8bec-9d2ead203f08"
      },
      "execution_count": null,
      "outputs": [
        {
          "output_type": "stream",
          "name": "stdout",
          "text": [
            "<class 'pandas.core.frame.DataFrame'>\n",
            "RangeIndex: 5 entries, 0 to 4\n",
            "Data columns (total 5 columns):\n",
            " #   Column      Non-Null Count  Dtype         \n",
            "---  ------      --------------  -----         \n",
            " 0   OrderID     5 non-null      int64         \n",
            " 1   CustomerID  5 non-null      int64         \n",
            " 2   EmployeeID  5 non-null      int64         \n",
            " 3   OrderDate   5 non-null      datetime64[ns]\n",
            " 4   ShipperID   5 non-null      object        \n",
            "dtypes: datetime64[ns](1), int64(3), object(1)\n",
            "memory usage: 328.0+ bytes\n"
          ]
        }
      ]
    },
    {
      "cell_type": "code",
      "source": [
        "df2[df2['OrderDate'].dt.year<2021]"
      ],
      "metadata": {
        "id": "wxoxyxWHY9mG",
        "colab": {
          "base_uri": "https://localhost:8080/",
          "height": 206
        },
        "outputId": "4cf799be-aa82-4203-9628-e5aabfafc292"
      },
      "execution_count": null,
      "outputs": [
        {
          "output_type": "execute_result",
          "data": {
            "text/plain": [
              "   OrderID  CustomerID  EmployeeID  OrderDate ShipperID\n",
              "0    10005          35           9 2020-02-11       EN1\n",
              "1    10007          37           9 2020-03-08       EN1\n",
              "2    10019          38           9 2020-06-15       EN1\n",
              "3    10031          36           9 2020-10-14       EN1\n",
              "4    10035          39           9 2020-11-27       EN1"
            ],
            "text/html": [
              "\n",
              "  <div id=\"df-7bb65132-cca0-4892-afe7-2018f160cb82\">\n",
              "    <div class=\"colab-df-container\">\n",
              "      <div>\n",
              "<style scoped>\n",
              "    .dataframe tbody tr th:only-of-type {\n",
              "        vertical-align: middle;\n",
              "    }\n",
              "\n",
              "    .dataframe tbody tr th {\n",
              "        vertical-align: top;\n",
              "    }\n",
              "\n",
              "    .dataframe thead th {\n",
              "        text-align: right;\n",
              "    }\n",
              "</style>\n",
              "<table border=\"1\" class=\"dataframe\">\n",
              "  <thead>\n",
              "    <tr style=\"text-align: right;\">\n",
              "      <th></th>\n",
              "      <th>OrderID</th>\n",
              "      <th>CustomerID</th>\n",
              "      <th>EmployeeID</th>\n",
              "      <th>OrderDate</th>\n",
              "      <th>ShipperID</th>\n",
              "    </tr>\n",
              "  </thead>\n",
              "  <tbody>\n",
              "    <tr>\n",
              "      <th>0</th>\n",
              "      <td>10005</td>\n",
              "      <td>35</td>\n",
              "      <td>9</td>\n",
              "      <td>2020-02-11</td>\n",
              "      <td>EN1</td>\n",
              "    </tr>\n",
              "    <tr>\n",
              "      <th>1</th>\n",
              "      <td>10007</td>\n",
              "      <td>37</td>\n",
              "      <td>9</td>\n",
              "      <td>2020-03-08</td>\n",
              "      <td>EN1</td>\n",
              "    </tr>\n",
              "    <tr>\n",
              "      <th>2</th>\n",
              "      <td>10019</td>\n",
              "      <td>38</td>\n",
              "      <td>9</td>\n",
              "      <td>2020-06-15</td>\n",
              "      <td>EN1</td>\n",
              "    </tr>\n",
              "    <tr>\n",
              "      <th>3</th>\n",
              "      <td>10031</td>\n",
              "      <td>36</td>\n",
              "      <td>9</td>\n",
              "      <td>2020-10-14</td>\n",
              "      <td>EN1</td>\n",
              "    </tr>\n",
              "    <tr>\n",
              "      <th>4</th>\n",
              "      <td>10035</td>\n",
              "      <td>39</td>\n",
              "      <td>9</td>\n",
              "      <td>2020-11-27</td>\n",
              "      <td>EN1</td>\n",
              "    </tr>\n",
              "  </tbody>\n",
              "</table>\n",
              "</div>\n",
              "      <button class=\"colab-df-convert\" onclick=\"convertToInteractive('df-7bb65132-cca0-4892-afe7-2018f160cb82')\"\n",
              "              title=\"Convert this dataframe to an interactive table.\"\n",
              "              style=\"display:none;\">\n",
              "        \n",
              "  <svg xmlns=\"http://www.w3.org/2000/svg\" height=\"24px\"viewBox=\"0 0 24 24\"\n",
              "       width=\"24px\">\n",
              "    <path d=\"M0 0h24v24H0V0z\" fill=\"none\"/>\n",
              "    <path d=\"M18.56 5.44l.94 2.06.94-2.06 2.06-.94-2.06-.94-.94-2.06-.94 2.06-2.06.94zm-11 1L8.5 8.5l.94-2.06 2.06-.94-2.06-.94L8.5 2.5l-.94 2.06-2.06.94zm10 10l.94 2.06.94-2.06 2.06-.94-2.06-.94-.94-2.06-.94 2.06-2.06.94z\"/><path d=\"M17.41 7.96l-1.37-1.37c-.4-.4-.92-.59-1.43-.59-.52 0-1.04.2-1.43.59L10.3 9.45l-7.72 7.72c-.78.78-.78 2.05 0 2.83L4 21.41c.39.39.9.59 1.41.59.51 0 1.02-.2 1.41-.59l7.78-7.78 2.81-2.81c.8-.78.8-2.07 0-2.86zM5.41 20L4 18.59l7.72-7.72 1.47 1.35L5.41 20z\"/>\n",
              "  </svg>\n",
              "      </button>\n",
              "      \n",
              "  <style>\n",
              "    .colab-df-container {\n",
              "      display:flex;\n",
              "      flex-wrap:wrap;\n",
              "      gap: 12px;\n",
              "    }\n",
              "\n",
              "    .colab-df-convert {\n",
              "      background-color: #E8F0FE;\n",
              "      border: none;\n",
              "      border-radius: 50%;\n",
              "      cursor: pointer;\n",
              "      display: none;\n",
              "      fill: #1967D2;\n",
              "      height: 32px;\n",
              "      padding: 0 0 0 0;\n",
              "      width: 32px;\n",
              "    }\n",
              "\n",
              "    .colab-df-convert:hover {\n",
              "      background-color: #E2EBFA;\n",
              "      box-shadow: 0px 1px 2px rgba(60, 64, 67, 0.3), 0px 1px 3px 1px rgba(60, 64, 67, 0.15);\n",
              "      fill: #174EA6;\n",
              "    }\n",
              "\n",
              "    [theme=dark] .colab-df-convert {\n",
              "      background-color: #3B4455;\n",
              "      fill: #D2E3FC;\n",
              "    }\n",
              "\n",
              "    [theme=dark] .colab-df-convert:hover {\n",
              "      background-color: #434B5C;\n",
              "      box-shadow: 0px 1px 3px 1px rgba(0, 0, 0, 0.15);\n",
              "      filter: drop-shadow(0px 1px 2px rgba(0, 0, 0, 0.3));\n",
              "      fill: #FFFFFF;\n",
              "    }\n",
              "  </style>\n",
              "\n",
              "      <script>\n",
              "        const buttonEl =\n",
              "          document.querySelector('#df-7bb65132-cca0-4892-afe7-2018f160cb82 button.colab-df-convert');\n",
              "        buttonEl.style.display =\n",
              "          google.colab.kernel.accessAllowed ? 'block' : 'none';\n",
              "\n",
              "        async function convertToInteractive(key) {\n",
              "          const element = document.querySelector('#df-7bb65132-cca0-4892-afe7-2018f160cb82');\n",
              "          const dataTable =\n",
              "            await google.colab.kernel.invokeFunction('convertToInteractive',\n",
              "                                                     [key], {});\n",
              "          if (!dataTable) return;\n",
              "\n",
              "          const docLinkHtml = 'Like what you see? Visit the ' +\n",
              "            '<a target=\"_blank\" href=https://colab.research.google.com/notebooks/data_table.ipynb>data table notebook</a>'\n",
              "            + ' to learn more about interactive tables.';\n",
              "          element.innerHTML = '';\n",
              "          dataTable['output_type'] = 'display_data';\n",
              "          await google.colab.output.renderOutput(dataTable, element);\n",
              "          const docLink = document.createElement('div');\n",
              "          docLink.innerHTML = docLinkHtml;\n",
              "          element.appendChild(docLink);\n",
              "        }\n",
              "      </script>\n",
              "    </div>\n",
              "  </div>\n",
              "  "
            ]
          },
          "metadata": {},
          "execution_count": 37
        }
      ]
    },
    {
      "cell_type": "markdown",
      "source": [
        "# **Switch to other database @dbname**"
      ],
      "metadata": {
        "id": "oFKK1LXVrUtn"
      }
    },
    {
      "cell_type": "code",
      "source": [
        "dbname='Dessert.sqlite'\n",
        "connection_string=f'sqlite:///{dbname}'"
      ],
      "metadata": {
        "id": "BV2ST4J-rgem"
      },
      "execution_count": null,
      "outputs": []
    },
    {
      "cell_type": "code",
      "source": [
        "%sql $connection_string"
      ],
      "metadata": {
        "id": "ZNDONbvursC3",
        "colab": {
          "base_uri": "https://localhost:8080/",
          "height": 35
        },
        "outputId": "47aceb88-a0c7-4f8f-d23e-6b46b9a2256b"
      },
      "execution_count": null,
      "outputs": [
        {
          "output_type": "execute_result",
          "data": {
            "text/plain": [
              "'Connected: @Dessert.sqlite'"
            ],
            "application/vnd.google.colaboratory.intrinsic+json": {
              "type": "string"
            }
          },
          "metadata": {},
          "execution_count": 39
        }
      ]
    },
    {
      "cell_type": "code",
      "source": [
        "%%sql\n",
        "SELECT * \n",
        "  FROM sqlite_master\n",
        "  WHERE type ='table';"
      ],
      "metadata": {
        "id": "KfkWlsiNrw9S",
        "colab": {
          "base_uri": "https://localhost:8080/",
          "height": 133
        },
        "outputId": "18a87ebe-eac9-4c84-d0bd-b4365ee566cf"
      },
      "execution_count": null,
      "outputs": [
        {
          "output_type": "stream",
          "name": "stdout",
          "text": [
            " * sqlite:///Dessert.sqlite\n",
            "   sqlite:///IntheCloudsCo.sqlite\n",
            "Done.\n"
          ]
        },
        {
          "output_type": "execute_result",
          "data": {
            "text/plain": [
              "    type   name tbl_name  rootpage  \\\n",
              "0  table  Menus    Menus         2   \n",
              "\n",
              "                                                 sql  \n",
              "0  CREATE TABLE \"Menus\" (\\n\\t\"ID\"\\tINTEGER,\\n\\t\"M...  "
            ],
            "text/html": [
              "\n",
              "  <div id=\"df-66c5c946-9d35-4a1a-8791-5ea649c4c249\">\n",
              "    <div class=\"colab-df-container\">\n",
              "      <div>\n",
              "<style scoped>\n",
              "    .dataframe tbody tr th:only-of-type {\n",
              "        vertical-align: middle;\n",
              "    }\n",
              "\n",
              "    .dataframe tbody tr th {\n",
              "        vertical-align: top;\n",
              "    }\n",
              "\n",
              "    .dataframe thead th {\n",
              "        text-align: right;\n",
              "    }\n",
              "</style>\n",
              "<table border=\"1\" class=\"dataframe\">\n",
              "  <thead>\n",
              "    <tr style=\"text-align: right;\">\n",
              "      <th></th>\n",
              "      <th>type</th>\n",
              "      <th>name</th>\n",
              "      <th>tbl_name</th>\n",
              "      <th>rootpage</th>\n",
              "      <th>sql</th>\n",
              "    </tr>\n",
              "  </thead>\n",
              "  <tbody>\n",
              "    <tr>\n",
              "      <th>0</th>\n",
              "      <td>table</td>\n",
              "      <td>Menus</td>\n",
              "      <td>Menus</td>\n",
              "      <td>2</td>\n",
              "      <td>CREATE TABLE \"Menus\" (\\n\\t\"ID\"\\tINTEGER,\\n\\t\"M...</td>\n",
              "    </tr>\n",
              "  </tbody>\n",
              "</table>\n",
              "</div>\n",
              "      <button class=\"colab-df-convert\" onclick=\"convertToInteractive('df-66c5c946-9d35-4a1a-8791-5ea649c4c249')\"\n",
              "              title=\"Convert this dataframe to an interactive table.\"\n",
              "              style=\"display:none;\">\n",
              "        \n",
              "  <svg xmlns=\"http://www.w3.org/2000/svg\" height=\"24px\"viewBox=\"0 0 24 24\"\n",
              "       width=\"24px\">\n",
              "    <path d=\"M0 0h24v24H0V0z\" fill=\"none\"/>\n",
              "    <path d=\"M18.56 5.44l.94 2.06.94-2.06 2.06-.94-2.06-.94-.94-2.06-.94 2.06-2.06.94zm-11 1L8.5 8.5l.94-2.06 2.06-.94-2.06-.94L8.5 2.5l-.94 2.06-2.06.94zm10 10l.94 2.06.94-2.06 2.06-.94-2.06-.94-.94-2.06-.94 2.06-2.06.94z\"/><path d=\"M17.41 7.96l-1.37-1.37c-.4-.4-.92-.59-1.43-.59-.52 0-1.04.2-1.43.59L10.3 9.45l-7.72 7.72c-.78.78-.78 2.05 0 2.83L4 21.41c.39.39.9.59 1.41.59.51 0 1.02-.2 1.41-.59l7.78-7.78 2.81-2.81c.8-.78.8-2.07 0-2.86zM5.41 20L4 18.59l7.72-7.72 1.47 1.35L5.41 20z\"/>\n",
              "  </svg>\n",
              "      </button>\n",
              "      \n",
              "  <style>\n",
              "    .colab-df-container {\n",
              "      display:flex;\n",
              "      flex-wrap:wrap;\n",
              "      gap: 12px;\n",
              "    }\n",
              "\n",
              "    .colab-df-convert {\n",
              "      background-color: #E8F0FE;\n",
              "      border: none;\n",
              "      border-radius: 50%;\n",
              "      cursor: pointer;\n",
              "      display: none;\n",
              "      fill: #1967D2;\n",
              "      height: 32px;\n",
              "      padding: 0 0 0 0;\n",
              "      width: 32px;\n",
              "    }\n",
              "\n",
              "    .colab-df-convert:hover {\n",
              "      background-color: #E2EBFA;\n",
              "      box-shadow: 0px 1px 2px rgba(60, 64, 67, 0.3), 0px 1px 3px 1px rgba(60, 64, 67, 0.15);\n",
              "      fill: #174EA6;\n",
              "    }\n",
              "\n",
              "    [theme=dark] .colab-df-convert {\n",
              "      background-color: #3B4455;\n",
              "      fill: #D2E3FC;\n",
              "    }\n",
              "\n",
              "    [theme=dark] .colab-df-convert:hover {\n",
              "      background-color: #434B5C;\n",
              "      box-shadow: 0px 1px 3px 1px rgba(0, 0, 0, 0.15);\n",
              "      filter: drop-shadow(0px 1px 2px rgba(0, 0, 0, 0.3));\n",
              "      fill: #FFFFFF;\n",
              "    }\n",
              "  </style>\n",
              "\n",
              "      <script>\n",
              "        const buttonEl =\n",
              "          document.querySelector('#df-66c5c946-9d35-4a1a-8791-5ea649c4c249 button.colab-df-convert');\n",
              "        buttonEl.style.display =\n",
              "          google.colab.kernel.accessAllowed ? 'block' : 'none';\n",
              "\n",
              "        async function convertToInteractive(key) {\n",
              "          const element = document.querySelector('#df-66c5c946-9d35-4a1a-8791-5ea649c4c249');\n",
              "          const dataTable =\n",
              "            await google.colab.kernel.invokeFunction('convertToInteractive',\n",
              "                                                     [key], {});\n",
              "          if (!dataTable) return;\n",
              "\n",
              "          const docLinkHtml = 'Like what you see? Visit the ' +\n",
              "            '<a target=\"_blank\" href=https://colab.research.google.com/notebooks/data_table.ipynb>data table notebook</a>'\n",
              "            + ' to learn more about interactive tables.';\n",
              "          element.innerHTML = '';\n",
              "          dataTable['output_type'] = 'display_data';\n",
              "          await google.colab.output.renderOutput(dataTable, element);\n",
              "          const docLink = document.createElement('div');\n",
              "          docLink.innerHTML = docLinkHtml;\n",
              "          element.appendChild(docLink);\n",
              "        }\n",
              "      </script>\n",
              "    </div>\n",
              "  </div>\n",
              "  "
            ]
          },
          "metadata": {},
          "execution_count": 40
        }
      ]
    },
    {
      "cell_type": "code",
      "source": [
        "%sql SELECT * FROM Menus"
      ],
      "metadata": {
        "id": "6rT03b1G5o46",
        "colab": {
          "base_uri": "https://localhost:8080/",
          "height": 603
        },
        "outputId": "e4ce7127-e696-4a22-8838-9d6903af1f26"
      },
      "execution_count": null,
      "outputs": [
        {
          "output_type": "stream",
          "name": "stdout",
          "text": [
            " * sqlite:///Dessert.sqlite\n",
            "   sqlite:///IntheCloudsCo.sqlite\n",
            "Done.\n"
          ]
        },
        {
          "output_type": "execute_result",
          "data": {
            "text/plain": [
              "    ID            Menu  Price\n",
              "0    1          Éclair      7\n",
              "1    2           Choux      3\n",
              "2    3            Puff      3\n",
              "3    4            Filo      3\n",
              "4    5      Fruit cake      7\n",
              "5    6      Fruit tart      7\n",
              "6    7        Meringue      5\n",
              "7    8     Sponge cake      5\n",
              "8    9          Muffin      7\n",
              "9   10  Chocolate chip      5\n",
              "10  11      Florentine      5\n",
              "11  12       Cream pie     10\n",
              "12  13   Crème caramel     10\n",
              "13  14          Canelé      7\n",
              "14  15       Financier      7\n",
              "15  16         Triffle     10"
            ],
            "text/html": [
              "\n",
              "  <div id=\"df-4610c40b-469b-4068-b0a0-dae5c3a57566\">\n",
              "    <div class=\"colab-df-container\">\n",
              "      <div>\n",
              "<style scoped>\n",
              "    .dataframe tbody tr th:only-of-type {\n",
              "        vertical-align: middle;\n",
              "    }\n",
              "\n",
              "    .dataframe tbody tr th {\n",
              "        vertical-align: top;\n",
              "    }\n",
              "\n",
              "    .dataframe thead th {\n",
              "        text-align: right;\n",
              "    }\n",
              "</style>\n",
              "<table border=\"1\" class=\"dataframe\">\n",
              "  <thead>\n",
              "    <tr style=\"text-align: right;\">\n",
              "      <th></th>\n",
              "      <th>ID</th>\n",
              "      <th>Menu</th>\n",
              "      <th>Price</th>\n",
              "    </tr>\n",
              "  </thead>\n",
              "  <tbody>\n",
              "    <tr>\n",
              "      <th>0</th>\n",
              "      <td>1</td>\n",
              "      <td>Éclair</td>\n",
              "      <td>7</td>\n",
              "    </tr>\n",
              "    <tr>\n",
              "      <th>1</th>\n",
              "      <td>2</td>\n",
              "      <td>Choux</td>\n",
              "      <td>3</td>\n",
              "    </tr>\n",
              "    <tr>\n",
              "      <th>2</th>\n",
              "      <td>3</td>\n",
              "      <td>Puff</td>\n",
              "      <td>3</td>\n",
              "    </tr>\n",
              "    <tr>\n",
              "      <th>3</th>\n",
              "      <td>4</td>\n",
              "      <td>Filo</td>\n",
              "      <td>3</td>\n",
              "    </tr>\n",
              "    <tr>\n",
              "      <th>4</th>\n",
              "      <td>5</td>\n",
              "      <td>Fruit cake</td>\n",
              "      <td>7</td>\n",
              "    </tr>\n",
              "    <tr>\n",
              "      <th>5</th>\n",
              "      <td>6</td>\n",
              "      <td>Fruit tart</td>\n",
              "      <td>7</td>\n",
              "    </tr>\n",
              "    <tr>\n",
              "      <th>6</th>\n",
              "      <td>7</td>\n",
              "      <td>Meringue</td>\n",
              "      <td>5</td>\n",
              "    </tr>\n",
              "    <tr>\n",
              "      <th>7</th>\n",
              "      <td>8</td>\n",
              "      <td>Sponge cake</td>\n",
              "      <td>5</td>\n",
              "    </tr>\n",
              "    <tr>\n",
              "      <th>8</th>\n",
              "      <td>9</td>\n",
              "      <td>Muffin</td>\n",
              "      <td>7</td>\n",
              "    </tr>\n",
              "    <tr>\n",
              "      <th>9</th>\n",
              "      <td>10</td>\n",
              "      <td>Chocolate chip</td>\n",
              "      <td>5</td>\n",
              "    </tr>\n",
              "    <tr>\n",
              "      <th>10</th>\n",
              "      <td>11</td>\n",
              "      <td>Florentine</td>\n",
              "      <td>5</td>\n",
              "    </tr>\n",
              "    <tr>\n",
              "      <th>11</th>\n",
              "      <td>12</td>\n",
              "      <td>Cream pie</td>\n",
              "      <td>10</td>\n",
              "    </tr>\n",
              "    <tr>\n",
              "      <th>12</th>\n",
              "      <td>13</td>\n",
              "      <td>Crème caramel</td>\n",
              "      <td>10</td>\n",
              "    </tr>\n",
              "    <tr>\n",
              "      <th>13</th>\n",
              "      <td>14</td>\n",
              "      <td>Canelé</td>\n",
              "      <td>7</td>\n",
              "    </tr>\n",
              "    <tr>\n",
              "      <th>14</th>\n",
              "      <td>15</td>\n",
              "      <td>Financier</td>\n",
              "      <td>7</td>\n",
              "    </tr>\n",
              "    <tr>\n",
              "      <th>15</th>\n",
              "      <td>16</td>\n",
              "      <td>Triffle</td>\n",
              "      <td>10</td>\n",
              "    </tr>\n",
              "  </tbody>\n",
              "</table>\n",
              "</div>\n",
              "      <button class=\"colab-df-convert\" onclick=\"convertToInteractive('df-4610c40b-469b-4068-b0a0-dae5c3a57566')\"\n",
              "              title=\"Convert this dataframe to an interactive table.\"\n",
              "              style=\"display:none;\">\n",
              "        \n",
              "  <svg xmlns=\"http://www.w3.org/2000/svg\" height=\"24px\"viewBox=\"0 0 24 24\"\n",
              "       width=\"24px\">\n",
              "    <path d=\"M0 0h24v24H0V0z\" fill=\"none\"/>\n",
              "    <path d=\"M18.56 5.44l.94 2.06.94-2.06 2.06-.94-2.06-.94-.94-2.06-.94 2.06-2.06.94zm-11 1L8.5 8.5l.94-2.06 2.06-.94-2.06-.94L8.5 2.5l-.94 2.06-2.06.94zm10 10l.94 2.06.94-2.06 2.06-.94-2.06-.94-.94-2.06-.94 2.06-2.06.94z\"/><path d=\"M17.41 7.96l-1.37-1.37c-.4-.4-.92-.59-1.43-.59-.52 0-1.04.2-1.43.59L10.3 9.45l-7.72 7.72c-.78.78-.78 2.05 0 2.83L4 21.41c.39.39.9.59 1.41.59.51 0 1.02-.2 1.41-.59l7.78-7.78 2.81-2.81c.8-.78.8-2.07 0-2.86zM5.41 20L4 18.59l7.72-7.72 1.47 1.35L5.41 20z\"/>\n",
              "  </svg>\n",
              "      </button>\n",
              "      \n",
              "  <style>\n",
              "    .colab-df-container {\n",
              "      display:flex;\n",
              "      flex-wrap:wrap;\n",
              "      gap: 12px;\n",
              "    }\n",
              "\n",
              "    .colab-df-convert {\n",
              "      background-color: #E8F0FE;\n",
              "      border: none;\n",
              "      border-radius: 50%;\n",
              "      cursor: pointer;\n",
              "      display: none;\n",
              "      fill: #1967D2;\n",
              "      height: 32px;\n",
              "      padding: 0 0 0 0;\n",
              "      width: 32px;\n",
              "    }\n",
              "\n",
              "    .colab-df-convert:hover {\n",
              "      background-color: #E2EBFA;\n",
              "      box-shadow: 0px 1px 2px rgba(60, 64, 67, 0.3), 0px 1px 3px 1px rgba(60, 64, 67, 0.15);\n",
              "      fill: #174EA6;\n",
              "    }\n",
              "\n",
              "    [theme=dark] .colab-df-convert {\n",
              "      background-color: #3B4455;\n",
              "      fill: #D2E3FC;\n",
              "    }\n",
              "\n",
              "    [theme=dark] .colab-df-convert:hover {\n",
              "      background-color: #434B5C;\n",
              "      box-shadow: 0px 1px 3px 1px rgba(0, 0, 0, 0.15);\n",
              "      filter: drop-shadow(0px 1px 2px rgba(0, 0, 0, 0.3));\n",
              "      fill: #FFFFFF;\n",
              "    }\n",
              "  </style>\n",
              "\n",
              "      <script>\n",
              "        const buttonEl =\n",
              "          document.querySelector('#df-4610c40b-469b-4068-b0a0-dae5c3a57566 button.colab-df-convert');\n",
              "        buttonEl.style.display =\n",
              "          google.colab.kernel.accessAllowed ? 'block' : 'none';\n",
              "\n",
              "        async function convertToInteractive(key) {\n",
              "          const element = document.querySelector('#df-4610c40b-469b-4068-b0a0-dae5c3a57566');\n",
              "          const dataTable =\n",
              "            await google.colab.kernel.invokeFunction('convertToInteractive',\n",
              "                                                     [key], {});\n",
              "          if (!dataTable) return;\n",
              "\n",
              "          const docLinkHtml = 'Like what you see? Visit the ' +\n",
              "            '<a target=\"_blank\" href=https://colab.research.google.com/notebooks/data_table.ipynb>data table notebook</a>'\n",
              "            + ' to learn more about interactive tables.';\n",
              "          element.innerHTML = '';\n",
              "          dataTable['output_type'] = 'display_data';\n",
              "          await google.colab.output.renderOutput(dataTable, element);\n",
              "          const docLink = document.createElement('div');\n",
              "          docLink.innerHTML = docLinkHtml;\n",
              "          element.appendChild(docLink);\n",
              "        }\n",
              "      </script>\n",
              "    </div>\n",
              "  </div>\n",
              "  "
            ]
          },
          "metadata": {},
          "execution_count": 41
        }
      ]
    },
    {
      "cell_type": "code",
      "source": [
        "df=%sql SELECT Menu, Price FROM Menus;"
      ],
      "metadata": {
        "id": "hp4h5SsvsIHH",
        "colab": {
          "base_uri": "https://localhost:8080/"
        },
        "outputId": "b05e101b-9660-4257-93dd-851839fcdaca"
      },
      "execution_count": null,
      "outputs": [
        {
          "output_type": "stream",
          "name": "stdout",
          "text": [
            " * sqlite:///Dessert.sqlite\n",
            "   sqlite:///IntheCloudsCo.sqlite\n",
            "Done.\n"
          ]
        }
      ]
    },
    {
      "cell_type": "code",
      "source": [
        "sns.set(rc={'figure.figsize':(24, 6)})\n",
        "\n",
        "sns.barplot(data=df, x='Menu', y='Price');"
      ],
      "metadata": {
        "id": "n9FX0nlksbgm",
        "colab": {
          "base_uri": "https://localhost:8080/",
          "height": 222
        },
        "outputId": "d8c28693-71fd-4377-aa33-553058538e61"
      },
      "execution_count": null,
      "outputs": [
        {
          "output_type": "display_data",
          "data": {
            "text/plain": [
              "<Figure size 1728x432 with 1 Axes>"
            ],
            "image/png": "[encoded data removed]"
          },
          "metadata": {}
        }
      ]
    },
    {
      "cell_type": "code",
      "source": [
        "%sql @IntheCloudsCo"
      ],
      "metadata": {
        "id": "fYjgnkdfsnpo",
        "colab": {
          "base_uri": "https://localhost:8080/",
          "height": 35
        },
        "outputId": "a6118d33-3794-4d07-bfbb-19c3c41878da"
      },
      "execution_count": null,
      "outputs": [
        {
          "output_type": "execute_result",
          "data": {
            "text/plain": [
              "'Connected: @IntheCloudsCo.sqlite'"
            ],
            "application/vnd.google.colaboratory.intrinsic+json": {
              "type": "string"
            }
          },
          "metadata": {},
          "execution_count": 44
        }
      ]
    },
    {
      "cell_type": "code",
      "source": [
        "%sql SELECT * FROM Customers LIMIT 8;"
      ],
      "metadata": {
        "id": "ph537QjFtNV3",
        "colab": {
          "base_uri": "https://localhost:8080/",
          "height": 448
        },
        "outputId": "c3909ccf-50a0-4e5d-c333-cf408d5c4be1"
      },
      "execution_count": null,
      "outputs": [
        {
          "output_type": "stream",
          "name": "stdout",
          "text": [
            "   sqlite:///Dessert.sqlite\n",
            " * sqlite:///IntheCloudsCo.sqlite\n",
            "Done.\n"
          ]
        },
        {
          "output_type": "execute_result",
          "data": {
            "text/plain": [
              "   CustomerID        CustomerName     ContactName                 Address  \\\n",
              "0           1     john thomas red     Julia Erica                6 Avenue   \n",
              "1           2       gianni azzuro    Giovanni Ala               Via Lazio   \n",
              "2           3     juan maria rojo   Jaime Nopales  Calle del Amor de Dios   \n",
              "3           4    johannes schwarz   Jakob  Tusche    Alfons-Goppel-Straße   \n",
              "4           5  jan martijn oranje  Pieter Ladened               Zeestraat   \n",
              "5           6     johan mellanblå     Tomas Seger          Regeringsgatan   \n",
              "6           7         yuēhàn hóng     Andy Hai Ai            Tianjin Road   \n",
              "7           8       kajorn fakhaw     Natty Dahla            Rama IV road   \n",
              "\n",
              "        City PostalCode         Country  \n",
              "0   New york      10019             USA  \n",
              "1       Roma        187           Italy  \n",
              "2     Madrid      28014           Spain  \n",
              "3    München      80539         Germany  \n",
              "4   Den Haag       2525  The Netherland  \n",
              "5  Stockholm     111 53          Sweden  \n",
              "6   Shanghai     200002           China  \n",
              "7    Bangkok      10330        Thailand  "
            ],
            "text/html": [
              "\n",
              "  <div id=\"df-a0f38544-3be8-48f6-9dec-fa01ab69d509\">\n",
              "    <div class=\"colab-df-container\">\n",
              "      <div>\n",
              "<style scoped>\n",
              "    .dataframe tbody tr th:only-of-type {\n",
              "        vertical-align: middle;\n",
              "    }\n",
              "\n",
              "    .dataframe tbody tr th {\n",
              "        vertical-align: top;\n",
              "    }\n",
              "\n",
              "    .dataframe thead th {\n",
              "        text-align: right;\n",
              "    }\n",
              "</style>\n",
              "<table border=\"1\" class=\"dataframe\">\n",
              "  <thead>\n",
              "    <tr style=\"text-align: right;\">\n",
              "      <th></th>\n",
              "      <th>CustomerID</th>\n",
              "      <th>CustomerName</th>\n",
              "      <th>ContactName</th>\n",
              "      <th>Address</th>\n",
              "      <th>City</th>\n",
              "      <th>PostalCode</th>\n",
              "      <th>Country</th>\n",
              "    </tr>\n",
              "  </thead>\n",
              "  <tbody>\n",
              "    <tr>\n",
              "      <th>0</th>\n",
              "      <td>1</td>\n",
              "      <td>john thomas red</td>\n",
              "      <td>Julia Erica</td>\n",
              "      <td>6 Avenue</td>\n",
              "      <td>New york</td>\n",
              "      <td>10019</td>\n",
              "      <td>USA</td>\n",
              "    </tr>\n",
              "    <tr>\n",
              "      <th>1</th>\n",
              "      <td>2</td>\n",
              "      <td>gianni azzuro</td>\n",
              "      <td>Giovanni Ala</td>\n",
              "      <td>Via Lazio</td>\n",
              "      <td>Roma</td>\n",
              "      <td>187</td>\n",
              "      <td>Italy</td>\n",
              "    </tr>\n",
              "    <tr>\n",
              "      <th>2</th>\n",
              "      <td>3</td>\n",
              "      <td>juan maria rojo</td>\n",
              "      <td>Jaime Nopales</td>\n",
              "      <td>Calle del Amor de Dios</td>\n",
              "      <td>Madrid</td>\n",
              "      <td>28014</td>\n",
              "      <td>Spain</td>\n",
              "    </tr>\n",
              "    <tr>\n",
              "      <th>3</th>\n",
              "      <td>4</td>\n",
              "      <td>johannes schwarz</td>\n",
              "      <td>Jakob  Tusche</td>\n",
              "      <td>Alfons-Goppel-Straße</td>\n",
              "      <td>München</td>\n",
              "      <td>80539</td>\n",
              "      <td>Germany</td>\n",
              "    </tr>\n",
              "    <tr>\n",
              "      <th>4</th>\n",
              "      <td>5</td>\n",
              "      <td>jan martijn oranje</td>\n",
              "      <td>Pieter Ladened</td>\n",
              "      <td>Zeestraat</td>\n",
              "      <td>Den Haag</td>\n",
              "      <td>2525</td>\n",
              "      <td>The Netherland</td>\n",
              "    </tr>\n",
              "    <tr>\n",
              "      <th>5</th>\n",
              "      <td>6</td>\n",
              "      <td>johan mellanblå</td>\n",
              "      <td>Tomas Seger</td>\n",
              "      <td>Regeringsgatan</td>\n",
              "      <td>Stockholm</td>\n",
              "      <td>111 53</td>\n",
              "      <td>Sweden</td>\n",
              "    </tr>\n",
              "    <tr>\n",
              "      <th>6</th>\n",
              "      <td>7</td>\n",
              "      <td>yuēhàn hóng</td>\n",
              "      <td>Andy Hai Ai</td>\n",
              "      <td>Tianjin Road</td>\n",
              "      <td>Shanghai</td>\n",
              "      <td>200002</td>\n",
              "      <td>China</td>\n",
              "    </tr>\n",
              "    <tr>\n",
              "      <th>7</th>\n",
              "      <td>8</td>\n",
              "      <td>kajorn fakhaw</td>\n",
              "      <td>Natty Dahla</td>\n",
              "      <td>Rama IV road</td>\n",
              "      <td>Bangkok</td>\n",
              "      <td>10330</td>\n",
              "      <td>Thailand</td>\n",
              "    </tr>\n",
              "  </tbody>\n",
              "</table>\n",
              "</div>\n",
              "      <button class=\"colab-df-convert\" onclick=\"convertToInteractive('df-a0f38544-3be8-48f6-9dec-fa01ab69d509')\"\n",
              "              title=\"Convert this dataframe to an interactive table.\"\n",
              "              style=\"display:none;\">\n",
              "        \n",
              "  <svg xmlns=\"http://www.w3.org/2000/svg\" height=\"24px\"viewBox=\"0 0 24 24\"\n",
              "       width=\"24px\">\n",
              "    <path d=\"M0 0h24v24H0V0z\" fill=\"none\"/>\n",
              "    <path d=\"M18.56 5.44l.94 2.06.94-2.06 2.06-.94-2.06-.94-.94-2.06-.94 2.06-2.06.94zm-11 1L8.5 8.5l.94-2.06 2.06-.94-2.06-.94L8.5 2.5l-.94 2.06-2.06.94zm10 10l.94 2.06.94-2.06 2.06-.94-2.06-.94-.94-2.06-.94 2.06-2.06.94z\"/><path d=\"M17.41 7.96l-1.37-1.37c-.4-.4-.92-.59-1.43-.59-.52 0-1.04.2-1.43.59L10.3 9.45l-7.72 7.72c-.78.78-.78 2.05 0 2.83L4 21.41c.39.39.9.59 1.41.59.51 0 1.02-.2 1.41-.59l7.78-7.78 2.81-2.81c.8-.78.8-2.07 0-2.86zM5.41 20L4 18.59l7.72-7.72 1.47 1.35L5.41 20z\"/>\n",
              "  </svg>\n",
              "      </button>\n",
              "      \n",
              "  <style>\n",
              "    .colab-df-container {\n",
              "      display:flex;\n",
              "      flex-wrap:wrap;\n",
              "      gap: 12px;\n",
              "    }\n",
              "\n",
              "    .colab-df-convert {\n",
              "      background-color: #E8F0FE;\n",
              "      border: none;\n",
              "      border-radius: 50%;\n",
              "      cursor: pointer;\n",
              "      display: none;\n",
              "      fill: #1967D2;\n",
              "      height: 32px;\n",
              "      padding: 0 0 0 0;\n",
              "      width: 32px;\n",
              "    }\n",
              "\n",
              "    .colab-df-convert:hover {\n",
              "      background-color: #E2EBFA;\n",
              "      box-shadow: 0px 1px 2px rgba(60, 64, 67, 0.3), 0px 1px 3px 1px rgba(60, 64, 67, 0.15);\n",
              "      fill: #174EA6;\n",
              "    }\n",
              "\n",
              "    [theme=dark] .colab-df-convert {\n",
              "      background-color: #3B4455;\n",
              "      fill: #D2E3FC;\n",
              "    }\n",
              "\n",
              "    [theme=dark] .colab-df-convert:hover {\n",
              "      background-color: #434B5C;\n",
              "      box-shadow: 0px 1px 3px 1px rgba(0, 0, 0, 0.15);\n",
              "      filter: drop-shadow(0px 1px 2px rgba(0, 0, 0, 0.3));\n",
              "      fill: #FFFFFF;\n",
              "    }\n",
              "  </style>\n",
              "\n",
              "      <script>\n",
              "        const buttonEl =\n",
              "          document.querySelector('#df-a0f38544-3be8-48f6-9dec-fa01ab69d509 button.colab-df-convert');\n",
              "        buttonEl.style.display =\n",
              "          google.colab.kernel.accessAllowed ? 'block' : 'none';\n",
              "\n",
              "        async function convertToInteractive(key) {\n",
              "          const element = document.querySelector('#df-a0f38544-3be8-48f6-9dec-fa01ab69d509');\n",
              "          const dataTable =\n",
              "            await google.colab.kernel.invokeFunction('convertToInteractive',\n",
              "                                                     [key], {});\n",
              "          if (!dataTable) return;\n",
              "\n",
              "          const docLinkHtml = 'Like what you see? Visit the ' +\n",
              "            '<a target=\"_blank\" href=https://colab.research.google.com/notebooks/data_table.ipynb>data table notebook</a>'\n",
              "            + ' to learn more about interactive tables.';\n",
              "          element.innerHTML = '';\n",
              "          dataTable['output_type'] = 'display_data';\n",
              "          await google.colab.output.renderOutput(dataTable, element);\n",
              "          const docLink = document.createElement('div');\n",
              "          docLink.innerHTML = docLinkHtml;\n",
              "          element.appendChild(docLink);\n",
              "        }\n",
              "      </script>\n",
              "    </div>\n",
              "  </div>\n",
              "  "
            ]
          },
          "metadata": {},
          "execution_count": 45
        }
      ]
    },
    {
      "cell_type": "code",
      "source": [
        "%sql @Dessert"
      ],
      "metadata": {
        "id": "_794e1zRtbia",
        "colab": {
          "base_uri": "https://localhost:8080/",
          "height": 35
        },
        "outputId": "cd12f760-ba9b-42b6-8eca-077846ea2786"
      },
      "execution_count": null,
      "outputs": [
        {
          "output_type": "execute_result",
          "data": {
            "text/plain": [
              "'Connected: @Dessert.sqlite'"
            ],
            "application/vnd.google.colaboratory.intrinsic+json": {
              "type": "string"
            }
          },
          "metadata": {},
          "execution_count": 46
        }
      ]
    },
    {
      "cell_type": "code",
      "source": [
        "%%sql\n",
        "SELECT *\n",
        "  FROM sqlite_master\n",
        "  WHERE type ='table';"
      ],
      "metadata": {
        "id": "BOkfc20_tg2H",
        "colab": {
          "base_uri": "https://localhost:8080/",
          "height": 133
        },
        "outputId": "519c3a6f-bbc5-4728-9d91-f3e4eacf2826"
      },
      "execution_count": null,
      "outputs": [
        {
          "output_type": "stream",
          "name": "stdout",
          "text": [
            " * sqlite:///Dessert.sqlite\n",
            "   sqlite:///IntheCloudsCo.sqlite\n",
            "Done.\n"
          ]
        },
        {
          "output_type": "execute_result",
          "data": {
            "text/plain": [
              "    type   name tbl_name  rootpage  \\\n",
              "0  table  Menus    Menus         2   \n",
              "\n",
              "                                                 sql  \n",
              "0  CREATE TABLE \"Menus\" (\\n\\t\"ID\"\\tINTEGER,\\n\\t\"M...  "
            ],
            "text/html": [
              "\n",
              "  <div id=\"df-7e09ba26-d40d-4b04-bbbe-c13becf025f6\">\n",
              "    <div class=\"colab-df-container\">\n",
              "      <div>\n",
              "<style scoped>\n",
              "    .dataframe tbody tr th:only-of-type {\n",
              "        vertical-align: middle;\n",
              "    }\n",
              "\n",
              "    .dataframe tbody tr th {\n",
              "        vertical-align: top;\n",
              "    }\n",
              "\n",
              "    .dataframe thead th {\n",
              "        text-align: right;\n",
              "    }\n",
              "</style>\n",
              "<table border=\"1\" class=\"dataframe\">\n",
              "  <thead>\n",
              "    <tr style=\"text-align: right;\">\n",
              "      <th></th>\n",
              "      <th>type</th>\n",
              "      <th>name</th>\n",
              "      <th>tbl_name</th>\n",
              "      <th>rootpage</th>\n",
              "      <th>sql</th>\n",
              "    </tr>\n",
              "  </thead>\n",
              "  <tbody>\n",
              "    <tr>\n",
              "      <th>0</th>\n",
              "      <td>table</td>\n",
              "      <td>Menus</td>\n",
              "      <td>Menus</td>\n",
              "      <td>2</td>\n",
              "      <td>CREATE TABLE \"Menus\" (\\n\\t\"ID\"\\tINTEGER,\\n\\t\"M...</td>\n",
              "    </tr>\n",
              "  </tbody>\n",
              "</table>\n",
              "</div>\n",
              "      <button class=\"colab-df-convert\" onclick=\"convertToInteractive('df-7e09ba26-d40d-4b04-bbbe-c13becf025f6')\"\n",
              "              title=\"Convert this dataframe to an interactive table.\"\n",
              "              style=\"display:none;\">\n",
              "        \n",
              "  <svg xmlns=\"http://www.w3.org/2000/svg\" height=\"24px\"viewBox=\"0 0 24 24\"\n",
              "       width=\"24px\">\n",
              "    <path d=\"M0 0h24v24H0V0z\" fill=\"none\"/>\n",
              "    <path d=\"M18.56 5.44l.94 2.06.94-2.06 2.06-.94-2.06-.94-.94-2.06-.94 2.06-2.06.94zm-11 1L8.5 8.5l.94-2.06 2.06-.94-2.06-.94L8.5 2.5l-.94 2.06-2.06.94zm10 10l.94 2.06.94-2.06 2.06-.94-2.06-.94-.94-2.06-.94 2.06-2.06.94z\"/><path d=\"M17.41 7.96l-1.37-1.37c-.4-.4-.92-.59-1.43-.59-.52 0-1.04.2-1.43.59L10.3 9.45l-7.72 7.72c-.78.78-.78 2.05 0 2.83L4 21.41c.39.39.9.59 1.41.59.51 0 1.02-.2 1.41-.59l7.78-7.78 2.81-2.81c.8-.78.8-2.07 0-2.86zM5.41 20L4 18.59l7.72-7.72 1.47 1.35L5.41 20z\"/>\n",
              "  </svg>\n",
              "      </button>\n",
              "      \n",
              "  <style>\n",
              "    .colab-df-container {\n",
              "      display:flex;\n",
              "      flex-wrap:wrap;\n",
              "      gap: 12px;\n",
              "    }\n",
              "\n",
              "    .colab-df-convert {\n",
              "      background-color: #E8F0FE;\n",
              "      border: none;\n",
              "      border-radius: 50%;\n",
              "      cursor: pointer;\n",
              "      display: none;\n",
              "      fill: #1967D2;\n",
              "      height: 32px;\n",
              "      padding: 0 0 0 0;\n",
              "      width: 32px;\n",
              "    }\n",
              "\n",
              "    .colab-df-convert:hover {\n",
              "      background-color: #E2EBFA;\n",
              "      box-shadow: 0px 1px 2px rgba(60, 64, 67, 0.3), 0px 1px 3px 1px rgba(60, 64, 67, 0.15);\n",
              "      fill: #174EA6;\n",
              "    }\n",
              "\n",
              "    [theme=dark] .colab-df-convert {\n",
              "      background-color: #3B4455;\n",
              "      fill: #D2E3FC;\n",
              "    }\n",
              "\n",
              "    [theme=dark] .colab-df-convert:hover {\n",
              "      background-color: #434B5C;\n",
              "      box-shadow: 0px 1px 3px 1px rgba(0, 0, 0, 0.15);\n",
              "      filter: drop-shadow(0px 1px 2px rgba(0, 0, 0, 0.3));\n",
              "      fill: #FFFFFF;\n",
              "    }\n",
              "  </style>\n",
              "\n",
              "      <script>\n",
              "        const buttonEl =\n",
              "          document.querySelector('#df-7e09ba26-d40d-4b04-bbbe-c13becf025f6 button.colab-df-convert');\n",
              "        buttonEl.style.display =\n",
              "          google.colab.kernel.accessAllowed ? 'block' : 'none';\n",
              "\n",
              "        async function convertToInteractive(key) {\n",
              "          const element = document.querySelector('#df-7e09ba26-d40d-4b04-bbbe-c13becf025f6');\n",
              "          const dataTable =\n",
              "            await google.colab.kernel.invokeFunction('convertToInteractive',\n",
              "                                                     [key], {});\n",
              "          if (!dataTable) return;\n",
              "\n",
              "          const docLinkHtml = 'Like what you see? Visit the ' +\n",
              "            '<a target=\"_blank\" href=https://colab.research.google.com/notebooks/data_table.ipynb>data table notebook</a>'\n",
              "            + ' to learn more about interactive tables.';\n",
              "          element.innerHTML = '';\n",
              "          dataTable['output_type'] = 'display_data';\n",
              "          await google.colab.output.renderOutput(dataTable, element);\n",
              "          const docLink = document.createElement('div');\n",
              "          docLink.innerHTML = docLinkHtml;\n",
              "          element.appendChild(docLink);\n",
              "        }\n",
              "      </script>\n",
              "    </div>\n",
              "  </div>\n",
              "  "
            ]
          },
          "metadata": {},
          "execution_count": 47
        }
      ]
    },
    {
      "cell_type": "code",
      "source": [
        "%%sql\n",
        "SELECT Menu FROM Menus WHERE Menu LIKE 'C%'"
      ],
      "metadata": {
        "id": "i7gBqB1Dts6Y",
        "colab": {
          "base_uri": "https://localhost:8080/",
          "height": 258
        },
        "outputId": "c4676435-1058-49e7-d898-e355cc5b2cf8"
      },
      "execution_count": null,
      "outputs": [
        {
          "output_type": "stream",
          "name": "stdout",
          "text": [
            " * sqlite:///Dessert.sqlite\n",
            "   sqlite:///IntheCloudsCo.sqlite\n",
            "Done.\n"
          ]
        },
        {
          "output_type": "execute_result",
          "data": {
            "text/plain": [
              "             Menu\n",
              "0           Choux\n",
              "1  Chocolate chip\n",
              "2       Cream pie\n",
              "3   Crème caramel\n",
              "4          Canelé"
            ],
            "text/html": [
              "\n",
              "  <div id=\"df-7d3b39ea-1964-4859-aa39-1cced57ec391\">\n",
              "    <div class=\"colab-df-container\">\n",
              "      <div>\n",
              "<style scoped>\n",
              "    .dataframe tbody tr th:only-of-type {\n",
              "        vertical-align: middle;\n",
              "    }\n",
              "\n",
              "    .dataframe tbody tr th {\n",
              "        vertical-align: top;\n",
              "    }\n",
              "\n",
              "    .dataframe thead th {\n",
              "        text-align: right;\n",
              "    }\n",
              "</style>\n",
              "<table border=\"1\" class=\"dataframe\">\n",
              "  <thead>\n",
              "    <tr style=\"text-align: right;\">\n",
              "      <th></th>\n",
              "      <th>Menu</th>\n",
              "    </tr>\n",
              "  </thead>\n",
              "  <tbody>\n",
              "    <tr>\n",
              "      <th>0</th>\n",
              "      <td>Choux</td>\n",
              "    </tr>\n",
              "    <tr>\n",
              "      <th>1</th>\n",
              "      <td>Chocolate chip</td>\n",
              "    </tr>\n",
              "    <tr>\n",
              "      <th>2</th>\n",
              "      <td>Cream pie</td>\n",
              "    </tr>\n",
              "    <tr>\n",
              "      <th>3</th>\n",
              "      <td>Crème caramel</td>\n",
              "    </tr>\n",
              "    <tr>\n",
              "      <th>4</th>\n",
              "      <td>Canelé</td>\n",
              "    </tr>\n",
              "  </tbody>\n",
              "</table>\n",
              "</div>\n",
              "      <button class=\"colab-df-convert\" onclick=\"convertToInteractive('df-7d3b39ea-1964-4859-aa39-1cced57ec391')\"\n",
              "              title=\"Convert this dataframe to an interactive table.\"\n",
              "              style=\"display:none;\">\n",
              "        \n",
              "  <svg xmlns=\"http://www.w3.org/2000/svg\" height=\"24px\"viewBox=\"0 0 24 24\"\n",
              "       width=\"24px\">\n",
              "    <path d=\"M0 0h24v24H0V0z\" fill=\"none\"/>\n",
              "    <path d=\"M18.56 5.44l.94 2.06.94-2.06 2.06-.94-2.06-.94-.94-2.06-.94 2.06-2.06.94zm-11 1L8.5 8.5l.94-2.06 2.06-.94-2.06-.94L8.5 2.5l-.94 2.06-2.06.94zm10 10l.94 2.06.94-2.06 2.06-.94-2.06-.94-.94-2.06-.94 2.06-2.06.94z\"/><path d=\"M17.41 7.96l-1.37-1.37c-.4-.4-.92-.59-1.43-.59-.52 0-1.04.2-1.43.59L10.3 9.45l-7.72 7.72c-.78.78-.78 2.05 0 2.83L4 21.41c.39.39.9.59 1.41.59.51 0 1.02-.2 1.41-.59l7.78-7.78 2.81-2.81c.8-.78.8-2.07 0-2.86zM5.41 20L4 18.59l7.72-7.72 1.47 1.35L5.41 20z\"/>\n",
              "  </svg>\n",
              "      </button>\n",
              "      \n",
              "  <style>\n",
              "    .colab-df-container {\n",
              "      display:flex;\n",
              "      flex-wrap:wrap;\n",
              "      gap: 12px;\n",
              "    }\n",
              "\n",
              "    .colab-df-convert {\n",
              "      background-color: #E8F0FE;\n",
              "      border: none;\n",
              "      border-radius: 50%;\n",
              "      cursor: pointer;\n",
              "      display: none;\n",
              "      fill: #1967D2;\n",
              "      height: 32px;\n",
              "      padding: 0 0 0 0;\n",
              "      width: 32px;\n",
              "    }\n",
              "\n",
              "    .colab-df-convert:hover {\n",
              "      background-color: #E2EBFA;\n",
              "      box-shadow: 0px 1px 2px rgba(60, 64, 67, 0.3), 0px 1px 3px 1px rgba(60, 64, 67, 0.15);\n",
              "      fill: #174EA6;\n",
              "    }\n",
              "\n",
              "    [theme=dark] .colab-df-convert {\n",
              "      background-color: #3B4455;\n",
              "      fill: #D2E3FC;\n",
              "    }\n",
              "\n",
              "    [theme=dark] .colab-df-convert:hover {\n",
              "      background-color: #434B5C;\n",
              "      box-shadow: 0px 1px 3px 1px rgba(0, 0, 0, 0.15);\n",
              "      filter: drop-shadow(0px 1px 2px rgba(0, 0, 0, 0.3));\n",
              "      fill: #FFFFFF;\n",
              "    }\n",
              "  </style>\n",
              "\n",
              "      <script>\n",
              "        const buttonEl =\n",
              "          document.querySelector('#df-7d3b39ea-1964-4859-aa39-1cced57ec391 button.colab-df-convert');\n",
              "        buttonEl.style.display =\n",
              "          google.colab.kernel.accessAllowed ? 'block' : 'none';\n",
              "\n",
              "        async function convertToInteractive(key) {\n",
              "          const element = document.querySelector('#df-7d3b39ea-1964-4859-aa39-1cced57ec391');\n",
              "          const dataTable =\n",
              "            await google.colab.kernel.invokeFunction('convertToInteractive',\n",
              "                                                     [key], {});\n",
              "          if (!dataTable) return;\n",
              "\n",
              "          const docLinkHtml = 'Like what you see? Visit the ' +\n",
              "            '<a target=\"_blank\" href=https://colab.research.google.com/notebooks/data_table.ipynb>data table notebook</a>'\n",
              "            + ' to learn more about interactive tables.';\n",
              "          element.innerHTML = '';\n",
              "          dataTable['output_type'] = 'display_data';\n",
              "          await google.colab.output.renderOutput(dataTable, element);\n",
              "          const docLink = document.createElement('div');\n",
              "          docLink.innerHTML = docLinkHtml;\n",
              "          element.appendChild(docLink);\n",
              "        }\n",
              "      </script>\n",
              "    </div>\n",
              "  </div>\n",
              "  "
            ]
          },
          "metadata": {},
          "execution_count": 48
        }
      ]
    },
    {
      "cell_type": "markdown",
      "source": [
        "# **Reference**"
      ],
      "metadata": {
        "id": "trJzZ4laa0Sl"
      }
    },
    {
      "cell_type": "markdown",
      "source": [
        "Prasert Kanawattanachai.*สอน JupyterLab: การใช้ %sql magic เพื่อติดต่อกับ SQLite.* https://www.youtube.com/watch?v=NNAohEj4EDU&list=PLoTScYm9O0GHjYJA4pfG38M5BcrWKf5s2&index=18\n",
        "\n",
        "Catherine Devlin.*ipython-sql*.https://github.com/catherinedevlin/ipython-sql\n"
      ],
      "metadata": {
        "id": "Dw2xQl7ca3V-"
      }
    },
    {
      "cell_type": "markdown",
      "source": [
        "Myself\n",
        "\n",
        "github:Niklaust\n",
        "\n",
        "start-finish 20201128 "
      ],
      "metadata": {
        "id": "HJvvSKGUc-UU"
      }
    }
  ]
}